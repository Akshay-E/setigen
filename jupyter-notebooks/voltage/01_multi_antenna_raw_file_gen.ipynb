{
 "cells": [
  {
   "cell_type": "markdown",
   "metadata": {},
   "source": [
    "# Basic Multi Antenna Raw File Generation\n",
    "This tutorial walks through generation of Multi Antenna GUPPI RAW data with injected sine signals in Gaussian noise."
   ]
  },
  {
   "cell_type": "markdown",
   "metadata": {},
   "source": [
    "If you have access to a GPU, it is highly recommended to install CuPy, which performs the equivalent NumPy array operations on the GPU (https://docs.cupy.dev/en/stable/install.html). This is not necessary to run raw voltage generation, but will highly accelerate the pipeline. Once you have CuPy installed, to enable GPU acceleration you must set `SETIGEN_ENABLE_GPU` to '1' in the shell or in Python via `os.environ`. It can also be useful to set `CUDA_VISIBLE_DEVICES` to specify which GPUs to use."
   ]
  },
  {
   "cell_type": "code",
   "execution_count": 1,
   "metadata": {},
   "outputs": [],
   "source": [
    "# !pip install cupy-cuda110"
   ]
  },
  {
   "cell_type": "code",
   "execution_count": 2,
   "metadata": {},
   "outputs": [],
   "source": [
    "import os\n",
    "os.environ['SETIGEN_ENABLE_GPU'] = '1'\n",
    "os.environ['CUDA_VISIBLE_DEVICES'] = '0'"
   ]
  },
  {
   "cell_type": "code",
   "execution_count": 3,
   "metadata": {},
   "outputs": [
    {
     "name": "stderr",
     "output_type": "stream",
     "text": [
      "bshuf filter already loaded, skip it.\n",
      "lz4 filter already loaded, skip it.\n",
      "zfp filter already loaded, skip it.\n"
     ]
    }
   ],
   "source": [
    "%matplotlib inline\n",
    "import matplotlib.pyplot as plt\n",
    "\n",
    "import numpy as np\n",
    "from astropy import units as u\n",
    "import blimpy as bl\n",
    "\n",
    "import setigen as stg"
   ]
  },
  {
   "cell_type": "code",
   "execution_count": 4,
   "metadata": {},
   "outputs": [],
   "source": [
    "# Sometimes it can be necessary to re-run this command for plots to show automatically\n",
    "%matplotlib inline"
   ]
  },
  {
   "cell_type": "markdown",
   "metadata": {},
   "source": [
    "We first set some basic parameters behind the pipeline. `sample_rate` is in samples per second (Hz); `num_taps` and `num_branches` are specific to the polyphase filterbank described below. "
   ]
  },
  {
   "cell_type": "code",
   "execution_count": 5,
   "metadata": {},
   "outputs": [],
   "source": [
    "sample_rate = 3e9\n",
    "num_taps = 8\n",
    "num_branches = 1024\n",
    "\n",
    "chan_bw = sample_rate / num_branches"
   ]
  },
  {
   "cell_type": "markdown",
   "metadata": {},
   "source": [
    "## Creating a MultiAntennaArray\n",
    "\n",
    "We first create an `MultiAntennaArray` object, which initializes the array with `Antenna` instances each with an associated `delay` (in time samples). In addition to the individual data streams that allow you to add noise and signals to each `Antenna`, there are \"background\" data streams `bg_x` and `bg_y` in `MultiAntennaArray`, representing common / correlated noise or RFI that each `Antenna` can see, subject to the `delay`. (Note: `delays` can be `None` when initializing a `MultiAntennaArray`.)"
   ]
  },
  {
   "cell_type": "code",
   "execution_count": 6,
   "metadata": {},
   "outputs": [],
   "source": [
    "delays = np.array([0, 1e-6, 2e-6]) * sample_rate\n",
    "maa = stg.voltage.MultiAntennaArray(num_antennas=3,\n",
    "                                    sample_rate=sample_rate,\n",
    "                                    fch1=6*u.GHz,\n",
    "                                    ascending=False,\n",
    "                                    num_pols=2,\n",
    "                                    delays=delays)"
   ]
  },
  {
   "cell_type": "markdown",
   "metadata": {},
   "source": [
    "Let's add some Gaussian noise to the background streams, as well as a single \"RFI\" signal."
   ]
  },
  {
   "cell_type": "code",
   "execution_count": 7,
   "metadata": {},
   "outputs": [],
   "source": [
    "# This is equivalent to `for stream in [maa.bg_x, maa.bg_y]`\n",
    "for stream in maa.bg_streams:\n",
    "    stream.add_noise(v_mean=0,\n",
    "                     v_std=1)\n",
    "    stream.add_constant_signal(f_start=5998.9e6, \n",
    "                               drift_rate=0*u.Hz/u.s, \n",
    "                               level=0.0025)"
   ]
  },
  {
   "cell_type": "markdown",
   "metadata": {},
   "source": [
    "Adding data stream sources to each `Antenna`:"
   ]
  },
  {
   "cell_type": "code",
   "execution_count": 8,
   "metadata": {},
   "outputs": [],
   "source": [
    "for stream in maa.antennas[0].streams:\n",
    "    stream.add_noise(0, 1)\n",
    "\n",
    "for stream in maa.antennas[1].streams:\n",
    "    stream.add_noise(0, 2)\n",
    "    stream.add_constant_signal(f_start=5000.3e6, \n",
    "                               drift_rate=0*u.Hz/u.s, \n",
    "                               level=0.002)\n",
    "\n",
    "for stream in maa.antennas[2].streams:\n",
    "    stream.add_noise(0, 3)\n",
    "    stream.add_constant_signal(f_start=5000.7e6, \n",
    "                               drift_rate=0*u.Hz/u.s, \n",
    "                               level=0.004)"
   ]
  },
  {
   "cell_type": "code",
   "execution_count": 9,
   "metadata": {},
   "outputs": [],
   "source": [
    "for stream in maa.bg_streams:\n",
    "    stream.update_noise()"
   ]
  },
  {
   "cell_type": "code",
   "execution_count": 10,
   "metadata": {},
   "outputs": [
    {
     "name": "stdout",
     "output_type": "stream",
     "text": [
      "0.9994526174430303 1.0098044718548382 1.420778169135405\n",
      "0.9992560377202394 1.006850573436064 1.418541753403432\n",
      "1.998639671873681 1.0098044718548382 2.2392555926837305\n",
      "1.998427984121939 1.006850573436064 2.2377360177085697\n",
      "3.000403837167641 1.0098044718548382 3.1657745114692446\n",
      "3.002427181208444 1.006850573436064 3.166751814665591\n"
     ]
    }
   ],
   "source": [
    "for antenna in maa.antennas:\n",
    "    for stream in antenna.streams:\n",
    "        stream.update_noise(int(1e6))\n",
    "        print(stream.noise_std, stream.bg_noise_std, stream.get_total_noise_std())"
   ]
  },
  {
   "cell_type": "markdown",
   "metadata": {},
   "source": [
    "## Making the backend elements and recording data\n",
    "As in the single `Antenna` version, we create the backend components according to desired parameters and construct the backend, this time passing in the `MultiAntennaArray` instead of a single `Antenna` object."
   ]
  },
  {
   "cell_type": "code",
   "execution_count": 11,
   "metadata": {},
   "outputs": [],
   "source": [
    "digitizer = stg.voltage.RealQuantizer(target_fwhm=32,\n",
    "                                      num_bits=8)\n",
    "\n",
    "filterbank = stg.voltage.PolyphaseFilterbank(num_taps=num_taps, \n",
    "                                             num_branches=num_branches)\n",
    "\n",
    "requantizer = stg.voltage.ComplexQuantizer(target_fwhm=32,\n",
    "                                           num_bits=8)\n",
    "\n",
    "rvb = stg.voltage.RawVoltageBackend(maa,\n",
    "                                    digitizer=digitizer,\n",
    "                                    filterbank=filterbank,\n",
    "                                    requantizer=requantizer,\n",
    "                                    start_chan=0,\n",
    "                                    num_chans=64,\n",
    "                                    block_size=6291456,\n",
    "                                    blocks_per_file=128,\n",
    "                                    num_subblocks=32)"
   ]
  },
  {
   "cell_type": "markdown",
   "metadata": {},
   "source": [
    "Actually \"running\" our recording:"
   ]
  },
  {
   "cell_type": "code",
   "execution_count": 12,
   "metadata": {},
   "outputs": [
    {
     "name": "stderr",
     "output_type": "stream",
     "text": [
      "Blocks:   0%|          | 0/1 [00:00<?, ?it/s]\n",
      "  0%|          | 0/192 [00:00<?, ?it/s]\u001b[A\n",
      "Subblocks:   0%|          | 0/192 [00:00<?, ?it/s]\u001b[A\n",
      "Subblocks:   1%|          | 1/192 [00:00<03:00,  1.06it/s]\u001b[A\n",
      "Subblocks:   3%|▎         | 5/192 [00:01<02:05,  1.49it/s]\u001b[A\n",
      "Subblocks:   4%|▎         | 7/192 [00:01<01:30,  2.05it/s]\u001b[A\n",
      "Subblocks:   6%|▌         | 11/192 [00:01<01:03,  2.85it/s]\u001b[A\n",
      "Subblocks:   7%|▋         | 14/192 [00:01<00:45,  3.90it/s]\u001b[A\n",
      "Subblocks:   9%|▉         | 18/192 [00:01<00:32,  5.30it/s]\u001b[A\n",
      "Subblocks:  11%|█         | 21/192 [00:01<00:24,  7.01it/s]\u001b[A\n",
      "Subblocks:  13%|█▎        | 25/192 [00:01<00:18,  9.10it/s]\u001b[A\n",
      "Subblocks:  15%|█▌        | 29/192 [00:01<00:14, 11.56it/s]\u001b[A\n",
      "Subblocks:  17%|█▋        | 32/192 [00:02<00:11, 14.10it/s]\u001b[A\n",
      "Subblocks:  19%|█▉        | 36/192 [00:02<00:09, 16.92it/s]\u001b[A\n",
      "Subblocks:  20%|██        | 39/192 [00:02<00:07, 19.33it/s]\u001b[A\n",
      "Subblocks:  22%|██▏       | 43/192 [00:02<00:06, 21.57it/s]\u001b[A\n",
      "Subblocks:  24%|██▍       | 47/192 [00:02<00:06, 23.78it/s]\u001b[A\n",
      "Subblocks:  26%|██▌       | 50/192 [00:02<00:05, 25.14it/s]\u001b[A\n",
      "Subblocks:  28%|██▊       | 54/192 [00:02<00:05, 26.72it/s]\u001b[A\n",
      "Subblocks:  30%|███       | 58/192 [00:02<00:04, 27.53it/s]\u001b[A\n",
      "Subblocks:  32%|███▏      | 61/192 [00:02<00:04, 28.10it/s]\u001b[A\n",
      "Subblocks:  34%|███▍      | 65/192 [00:03<00:04, 28.99it/s]\u001b[A\n",
      "Subblocks:  36%|███▌      | 69/192 [00:03<00:04, 29.32it/s]\u001b[A\n",
      "Subblocks:  38%|███▊      | 73/192 [00:03<00:04, 29.40it/s]\u001b[A\n",
      "Subblocks:  40%|████      | 77/192 [00:03<00:03, 29.93it/s]\u001b[A\n",
      "Subblocks:  42%|████▏     | 81/192 [00:03<00:03, 29.98it/s]\u001b[A\n",
      "Subblocks:  44%|████▍     | 85/192 [00:03<00:03, 29.86it/s]\u001b[A\n",
      "Subblocks:  46%|████▋     | 89/192 [00:03<00:03, 30.25it/s]\u001b[A\n",
      "Subblocks:  48%|████▊     | 93/192 [00:04<00:03, 30.04it/s]\u001b[A\n",
      "Subblocks:  51%|█████     | 97/192 [00:04<00:03, 29.91it/s]\u001b[A\n",
      "Subblocks:  53%|█████▎    | 101/192 [00:04<00:03, 30.29it/s]\u001b[A\n",
      "Subblocks:  55%|█████▍    | 105/192 [00:04<00:02, 30.07it/s]\u001b[A\n",
      "Subblocks:  57%|█████▋    | 109/192 [00:04<00:02, 29.93it/s]\u001b[A\n",
      "Subblocks:  59%|█████▉    | 113/192 [00:04<00:02, 30.31it/s]\u001b[A\n",
      "Subblocks:  61%|██████    | 117/192 [00:04<00:02, 30.11it/s]\u001b[A\n",
      "Subblocks:  63%|██████▎   | 121/192 [00:04<00:02, 29.97it/s]\u001b[A\n",
      "Subblocks:  65%|██████▌   | 125/192 [00:05<00:02, 30.51it/s]\u001b[A\n",
      "Subblocks:  67%|██████▋   | 129/192 [00:05<00:02, 30.39it/s]\u001b[A\n",
      "Subblocks:  69%|██████▉   | 133/192 [00:05<00:01, 30.14it/s]\u001b[A\n",
      "Subblocks:  71%|███████▏  | 137/192 [00:05<00:01, 30.47it/s]\u001b[A\n",
      "Subblocks:  73%|███████▎  | 141/192 [00:05<00:01, 30.21it/s]\u001b[A\n",
      "Subblocks:  76%|███████▌  | 145/192 [00:05<00:01, 30.16it/s]\u001b[A\n",
      "Subblocks:  78%|███████▊  | 149/192 [00:05<00:01, 30.64it/s]\u001b[A\n",
      "Subblocks:  80%|███████▉  | 153/192 [00:06<00:01, 30.32it/s]\u001b[A\n",
      "Subblocks:  82%|████████▏ | 157/192 [00:06<00:01, 30.11it/s]\u001b[A\n",
      "Subblocks:  84%|████████▍ | 161/192 [00:06<00:01, 30.45it/s]\u001b[A\n",
      "Subblocks:  86%|████████▌ | 165/192 [00:06<00:00, 30.21it/s]\u001b[A\n",
      "Subblocks:  88%|████████▊ | 169/192 [00:06<00:00, 30.04it/s]\u001b[A\n",
      "Subblocks:  90%|█████████ | 173/192 [00:06<00:00, 30.40it/s]\u001b[A\n",
      "Subblocks:  92%|█████████▏| 177/192 [00:06<00:00, 30.15it/s]\u001b[A\n",
      "Subblocks:  94%|█████████▍| 181/192 [00:06<00:00, 29.99it/s]\u001b[A\n",
      "Subblocks:  96%|█████████▋| 185/192 [00:07<00:00, 30.52it/s]\u001b[A\n",
      "Subblocks:  98%|█████████▊| 189/192 [00:07<00:00, 30.23it/s]\u001b[A\n",
      "Blocks: 100%|██████████| 1/1 [00:07<00:00,  7.41s/it]       \u001b[A\n"
     ]
    }
   ],
   "source": [
    "rvb.record(output_file_stem='example_multi',\n",
    "           num_blocks=1, \n",
    "           length_mode='num_blocks',\n",
    "           header_dict={'HELLO': 'test_value'},\n",
    "           verbose=False)"
   ]
  },
  {
   "cell_type": "code",
   "execution_count": null,
   "metadata": {},
   "outputs": [],
   "source": []
  }
 ],
 "metadata": {
  "kernelspec": {
   "display_name": "Python (bl_tf)",
   "language": "python",
   "name": "ml"
  },
  "language_info": {
   "codemirror_mode": {
    "name": "ipython",
    "version": 3
   },
   "file_extension": ".py",
   "mimetype": "text/x-python",
   "name": "python",
   "nbconvert_exporter": "python",
   "pygments_lexer": "ipython3",
   "version": "3.8.3"
  }
 },
 "nbformat": 4,
 "nbformat_minor": 4
}
