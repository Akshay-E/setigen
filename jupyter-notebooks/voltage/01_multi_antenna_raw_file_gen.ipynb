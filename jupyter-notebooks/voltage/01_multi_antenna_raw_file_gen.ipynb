{
 "cells": [
  {
   "cell_type": "markdown",
   "metadata": {},
   "source": [
    "# Basic Multi Antenna Raw File Generation\n",
    "This tutorial walks through generation of Multi Antenna GUPPI RAW data with injected sine signals in Gaussian noise."
   ]
  },
  {
   "cell_type": "markdown",
   "metadata": {},
   "source": [
    "If you have access to a GPU, it is highly recommended to install CuPy, which performs the equivalent NumPy array operations on the GPU (https://docs.cupy.dev/en/stable/install.html). This is not necessary to run raw voltage generation, but will highly accelerate the pipeline. Once you have CuPy installed, to enable GPU acceleration you must set `SETIGEN_ENABLE_GPU` to '1' in the shell or in Python via `os.environ`. It can also be useful to set `CUDA_VISIBLE_DEVICES` to specify which GPUs to use."
   ]
  },
  {
   "cell_type": "code",
   "execution_count": 1,
   "metadata": {},
   "outputs": [],
   "source": [
    "# !pip install cupy-cuda110"
   ]
  },
  {
   "cell_type": "code",
   "execution_count": 2,
   "metadata": {},
   "outputs": [],
   "source": [
    "import os\n",
    "os.environ['SETIGEN_ENABLE_GPU'] = '1'\n",
    "os.environ['CUDA_VISIBLE_DEVICES'] = '0'"
   ]
  },
  {
   "cell_type": "code",
   "execution_count": 3,
   "metadata": {},
   "outputs": [
    {
     "name": "stderr",
     "output_type": "stream",
     "text": [
      "bshuf filter already loaded, skip it.\n",
      "lz4 filter already loaded, skip it.\n",
      "zfp filter already loaded, skip it.\n"
     ]
    }
   ],
   "source": [
    "%load_ext autoreload\n",
    "%autoreload 2\n",
    "\n",
    "%matplotlib inline\n",
    "import matplotlib.pyplot as plt\n",
    "\n",
    "import numpy as np\n",
    "from astropy import units as u\n",
    "import blimpy as bl\n",
    "\n",
    "import sys\n",
    "sys.path.insert(0, \"../../\")\n",
    "import setigen as stg"
   ]
  },
  {
   "cell_type": "code",
   "execution_count": 4,
   "metadata": {},
   "outputs": [],
   "source": [
    "# Sometimes it can be necessary to re-run this command for plots to show automatically\n",
    "%matplotlib inline"
   ]
  },
  {
   "cell_type": "markdown",
   "metadata": {},
   "source": [
    "We first set some basic parameters behind the pipeline. `sample_rate` is in samples per second (Hz); `num_taps` and `num_branches` are specific to the polyphase filterbank described below. "
   ]
  },
  {
   "cell_type": "code",
   "execution_count": 5,
   "metadata": {},
   "outputs": [],
   "source": [
    "sample_rate = 3e9\n",
    "num_taps = 8\n",
    "num_branches = 1024\n",
    "\n",
    "chan_bw = sample_rate / num_branches"
   ]
  },
  {
   "cell_type": "markdown",
   "metadata": {},
   "source": [
    "## Creating a MultiAntennaArray\n",
    "\n",
    "We first create an `MultiAntennaArray` object, which initializes the array with `Antenna` instances each with an associated `delay` (in time samples). In addition to the individual data streams that allow you to add noise and signals to each `Antenna`, there are \"background\" data streams `bg_x` and `bg_y` in `MultiAntennaArray`, representing common / correlated noise or RFI that each `Antenna` can see, subject to the `delay`. (Note: `delays` can be `None` when initializing a `MultiAntennaArray`.)"
   ]
  },
  {
   "cell_type": "code",
   "execution_count": 6,
   "metadata": {},
   "outputs": [],
   "source": [
    "delays = np.array([0, 1e-6, 2e-6]) * sample_rate\n",
    "maa = stg.voltage.MultiAntennaArray(num_antennas=3,\n",
    "                                    sample_rate=sample_rate,\n",
    "                                    fch1=6*u.GHz,\n",
    "                                    ascending=False,\n",
    "                                    num_pols=2,\n",
    "                                    delays=delays)"
   ]
  },
  {
   "cell_type": "markdown",
   "metadata": {},
   "source": [
    "Let's add some Gaussian noise to the background streams, as well as a single \"RFI\" signal."
   ]
  },
  {
   "cell_type": "code",
   "execution_count": 7,
   "metadata": {},
   "outputs": [],
   "source": [
    "# This is equivalent to `for stream in [maa.bg_x, maa.bg_y]`\n",
    "for stream in maa.bg_streams:\n",
    "    stream.add_noise(v_mean=0,\n",
    "                     v_std=1)\n",
    "    stream.add_constant_signal(f_start=5998.9e6, \n",
    "                               drift_rate=0*u.Hz/u.s, \n",
    "                               level=0.0025)"
   ]
  },
  {
   "cell_type": "markdown",
   "metadata": {},
   "source": [
    "Adding data stream sources to each `Antenna`:"
   ]
  },
  {
   "cell_type": "code",
   "execution_count": 8,
   "metadata": {},
   "outputs": [],
   "source": [
    "for stream in maa.antennas[0].streams:\n",
    "    stream.add_noise(0, 1)\n",
    "\n",
    "for stream in maa.antennas[1].streams:\n",
    "    stream.add_noise(0, 2)\n",
    "    stream.add_constant_signal(f_start=5000.3e6, \n",
    "                               drift_rate=0*u.Hz/u.s, \n",
    "                               level=0.002)\n",
    "\n",
    "for stream in maa.antennas[2].streams:\n",
    "    stream.add_noise(0, 3)\n",
    "    stream.add_constant_signal(f_start=5000.7e6, \n",
    "                               drift_rate=0*u.Hz/u.s, \n",
    "                               level=0.004)"
   ]
  },
  {
   "cell_type": "code",
   "execution_count": 9,
   "metadata": {},
   "outputs": [],
   "source": [
    "for stream in maa.bg_streams:\n",
    "    stream.update_noise()"
   ]
  },
  {
   "cell_type": "code",
   "execution_count": 10,
   "metadata": {},
   "outputs": [
    {
     "name": "stdout",
     "output_type": "stream",
     "text": [
      "0.9989532668752013 1.0013176205997532 1.4144060968209196\n",
      "1.000431924501744 0.9975267015126436 1.412771586560601\n",
      "2.000594051305439 1.0013176205997532 2.23718875722239\n",
      "1.9997837864969195 0.9975267015126436 2.2347694988447135\n",
      "3.0012418172939417 1.0013176205997532 3.1638725358644573\n",
      "3.002696518331899 0.9975267015126436 3.164055293675065\n"
     ]
    }
   ],
   "source": [
    "for antenna in maa.antennas:\n",
    "    for stream in antenna.streams:\n",
    "        stream.update_noise(int(1e6))\n",
    "        print(stream.noise_std, stream.bg_noise_std, stream.get_total_noise_std())"
   ]
  },
  {
   "cell_type": "markdown",
   "metadata": {},
   "source": [
    "## Making the backend elements and recording data\n",
    "As in the single `Antenna` version, we create the backend components according to desired parameters and construct the backend, this time passing in the `MultiAntennaArray` instead of a single `Antenna` object."
   ]
  },
  {
   "cell_type": "code",
   "execution_count": 11,
   "metadata": {},
   "outputs": [],
   "source": [
    "digitizer = stg.voltage.RealQuantizer(target_fwhm=32,\n",
    "                                      num_bits=8)\n",
    "\n",
    "filterbank = stg.voltage.PolyphaseFilterbank(num_taps=num_taps, \n",
    "                                             num_branches=num_branches)\n",
    "\n",
    "requantizer = stg.voltage.ComplexQuantizer(target_fwhm=32,\n",
    "                                           num_bits=8)\n",
    "\n",
    "rvb = stg.voltage.RawVoltageBackend(maa,\n",
    "                                    digitizer=digitizer,\n",
    "                                    filterbank=filterbank,\n",
    "                                    requantizer=requantizer,\n",
    "                                    start_chan=0,\n",
    "                                    num_chans=64,\n",
    "                                    block_size=6291456,\n",
    "                                    blocks_per_file=128,\n",
    "                                    num_subblocks=32)"
   ]
  },
  {
   "cell_type": "markdown",
   "metadata": {},
   "source": [
    "Actually \"running\" our recording:"
   ]
  },
  {
   "cell_type": "code",
   "execution_count": 12,
   "metadata": {},
   "outputs": [
    {
     "name": "stderr",
     "output_type": "stream",
     "text": [
      "Blocks:   0%|          | 0/1 [00:00<?, ?it/s]\n",
      "  0%|          | 0/192 [00:00<?, ?it/s]\u001b[A\n",
      "Subblocks:   0%|          | 0/192 [00:00<?, ?it/s]\u001b[A\n",
      "Subblocks:   1%|          | 1/192 [00:01<03:44,  1.17s/it]\u001b[A\n",
      "Subblocks:   7%|▋         | 14/192 [00:01<02:26,  1.21it/s]\u001b[A\n",
      "Subblocks:  23%|██▎       | 44/192 [00:01<01:25,  1.73it/s]\u001b[A\n",
      "Subblocks:  39%|███▊      | 74/192 [00:01<00:47,  2.47it/s]\u001b[A\n",
      "Subblocks:  54%|█████▍    | 104/192 [00:01<00:25,  3.51it/s]\u001b[A\n",
      "Subblocks:  70%|██████▉   | 134/192 [00:01<00:11,  4.99it/s]\u001b[A\n",
      "Subblocks:  85%|████████▌ | 164/192 [00:01<00:03,  7.08it/s]\u001b[A\n",
      "Blocks: 100%|██████████| 1/1 [00:01<00:00,  1.96s/it]       \u001b[A\n"
     ]
    }
   ],
   "source": [
    "rvb.record(output_file_stem='example_multi',\n",
    "           num_blocks=1, \n",
    "           length_mode='num_blocks',\n",
    "           header_dict={'HELLO': 'test_value'},\n",
    "           verbose=False)"
   ]
  },
  {
   "cell_type": "code",
   "execution_count": null,
   "metadata": {},
   "outputs": [],
   "source": []
  }
 ],
 "metadata": {
  "kernelspec": {
   "display_name": "Python (bl_tf)",
   "language": "python",
   "name": "ml"
  },
  "language_info": {
   "codemirror_mode": {
    "name": "ipython",
    "version": 3
   },
   "file_extension": ".py",
   "mimetype": "text/x-python",
   "name": "python",
   "nbconvert_exporter": "python",
   "pygments_lexer": "ipython3",
   "version": "3.8.3"
  }
 },
 "nbformat": 4,
 "nbformat_minor": 4
}
