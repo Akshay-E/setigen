{
 "cells": [
  {
   "cell_type": "markdown",
   "metadata": {},
   "source": [
    "# Basic Multi Antenna Raw File Generation\n",
    "This tutorial walks through generation of Multi Antenna GUPPI RAW data with injected sine signals in Gaussian noise."
   ]
  },
  {
   "cell_type": "markdown",
   "metadata": {},
   "source": [
    "If you have access to a GPU, it is highly recommended to install CuPy, which performs the equivalent NumPy array operations on the GPU (https://docs.cupy.dev/en/stable/install.html). This is not necessary to run raw voltage generation, but will highly accelerate the pipeline. If you do install CuPy to use the GPU, it can be useful to run `export CUDA_VISIBLE_DEVICES=0` before running this notebook to specify a single GPU to use."
   ]
  },
  {
   "cell_type": "code",
   "execution_count": 1,
   "metadata": {},
   "outputs": [],
   "source": [
    "# !pip install cupy-cuda110"
   ]
  },
  {
   "cell_type": "code",
   "execution_count": 2,
   "metadata": {},
   "outputs": [
    {
     "name": "stderr",
     "output_type": "stream",
     "text": [
      "bshuf filter already loaded, skip it.\n",
      "lz4 filter already loaded, skip it.\n",
      "zfp filter already loaded, skip it.\n"
     ]
    }
   ],
   "source": [
    "%load_ext autoreload\n",
    "%autoreload 2\n",
    "\n",
    "%matplotlib inline\n",
    "import matplotlib.pyplot as plt\n",
    "\n",
    "import numpy as np\n",
    "from astropy import units as u\n",
    "import blimpy as bl\n",
    "\n",
    "import sys\n",
    "sys.path.insert(0, \"../../\")\n",
    "import setigen as stg"
   ]
  },
  {
   "cell_type": "code",
   "execution_count": 3,
   "metadata": {},
   "outputs": [],
   "source": [
    "# Sometimes it can be necessary to re-run this command for plots to show automatically\n",
    "%matplotlib inline"
   ]
  },
  {
   "cell_type": "markdown",
   "metadata": {},
   "source": [
    "We first set some basic parameters behind the pipeline. `sample_rate` is in samples per second (Hz); `num_taps` and `num_branches` are specific to the polyphase filterbank described below. "
   ]
  },
  {
   "cell_type": "code",
   "execution_count": 4,
   "metadata": {},
   "outputs": [],
   "source": [
    "sample_rate = 3e9\n",
    "num_taps = 8\n",
    "num_branches = 1024\n",
    "\n",
    "chan_bw = sample_rate / num_branches"
   ]
  },
  {
   "cell_type": "markdown",
   "metadata": {},
   "source": [
    "## Creating a MultiAntennaArray\n",
    "\n",
    "We first create an `MultiAntennaArray` object, which initializes the array with `Antenna` instances each with an associated `delay` (in time samples). In addition to the individual data streams that allow you to add noise and signals to each `Antenna`, there are \"background\" data streams `bg_x` and `bg_y` in `MultiAntennaArray`, representing common / correlated noise or RFI that each `Antenna` can see, subject to the `delay`. (Note: `delays` can be `None` when initializing a `MultiAntennaArray`.)"
   ]
  },
  {
   "cell_type": "code",
   "execution_count": 5,
   "metadata": {},
   "outputs": [],
   "source": [
    "delays = np.array([0, 1e-6, 2e-6]) * sample_rate\n",
    "maa = stg.voltage.MultiAntennaArray(num_antennas=3,\n",
    "                                    sample_rate=sample_rate,\n",
    "                                    fch1=6*u.GHz,\n",
    "                                    ascending=False,\n",
    "                                    num_pols=2,\n",
    "                                    delays=delays)"
   ]
  },
  {
   "cell_type": "markdown",
   "metadata": {},
   "source": [
    "Let's add some Gaussian noise to the background streams, as well as a single \"RFI\" signal."
   ]
  },
  {
   "cell_type": "code",
   "execution_count": 6,
   "metadata": {},
   "outputs": [],
   "source": [
    "# This is equivalent to `for stream in [maa.bg_x, maa.bg_y]`\n",
    "for stream in maa.bg_streams:\n",
    "    stream.add_noise(v_mean=0,\n",
    "                     v_std=1)\n",
    "    stream.add_signal(f_start=5998.9e6, \n",
    "                      drift_rate=0*u.Hz/u.s, \n",
    "                      level=0.0025,\n",
    "                      mode='level')"
   ]
  },
  {
   "cell_type": "markdown",
   "metadata": {},
   "source": [
    "Adding data stream sources to each `Antenna`:"
   ]
  },
  {
   "cell_type": "code",
   "execution_count": 7,
   "metadata": {},
   "outputs": [],
   "source": [
    "for stream in maa.antennas[0].streams:\n",
    "    stream.add_noise(0, 1)\n",
    "\n",
    "for stream in maa.antennas[1].streams:\n",
    "    stream.add_noise(0, 2)\n",
    "    stream.add_signal(f_start=5000.3e6, \n",
    "                      drift_rate=0*u.Hz/u.s, \n",
    "                      level=0.002,\n",
    "                      mode='level')\n",
    "\n",
    "for stream in maa.antennas[2].streams:\n",
    "    stream.add_noise(0, 3)\n",
    "    stream.add_signal(f_start=5000.7e6, \n",
    "                      drift_rate=0*u.Hz/u.s, \n",
    "                      level=0.004,\n",
    "                      mode='level')"
   ]
  },
  {
   "cell_type": "markdown",
   "metadata": {},
   "source": [
    "## Making the backend elements and recording data\n",
    "As in the single `Antenna` version, we create the backend components according to desired parameters and construct the backend, this time passing in the `MultiAntennaArray` instead of a single `Antenna` object."
   ]
  },
  {
   "cell_type": "code",
   "execution_count": 8,
   "metadata": {},
   "outputs": [],
   "source": [
    "digitizer = stg.voltage.RealQuantizer(target_fwhm=32,\n",
    "                                      num_bits=8)\n",
    "\n",
    "filterbank = stg.voltage.PolyphaseFilterbank(num_taps=num_taps, \n",
    "                                             num_branches=num_branches)\n",
    "\n",
    "requantizer = stg.voltage.ComplexQuantizer(target_fwhm=32,\n",
    "                                           num_bits=8)\n",
    "\n",
    "rvb = stg.voltage.RawVoltageBackend(maa,\n",
    "                                    digitizer=digitizer,\n",
    "                                    filterbank=filterbank,\n",
    "                                    requantizer=requantizer,\n",
    "                                    start_chan=0,\n",
    "                                    num_chans=64,\n",
    "                                    block_size=6291456,\n",
    "                                    blocks_per_file=128,\n",
    "                                    num_subblocks=32)"
   ]
  },
  {
   "cell_type": "markdown",
   "metadata": {},
   "source": [
    "Actually \"running\" our recording:"
   ]
  },
  {
   "cell_type": "code",
   "execution_count": 9,
   "metadata": {},
   "outputs": [
    {
     "name": "stderr",
     "output_type": "stream",
     "text": [
      "Blocks:   0%|          | 0/1 [00:00<?, ?it/s]\n",
      "  0%|          | 0/192 [00:00<?, ?it/s]\u001b[A\n",
      "Subblocks:   0%|          | 0/192 [00:00<?, ?it/s]\u001b[A\n",
      "Subblocks:   1%|          | 1/192 [00:02<07:22,  2.31s/it]\u001b[A\n",
      "Subblocks:   6%|▋         | 12/192 [00:02<04:52,  1.62s/it]\u001b[A\n",
      "Subblocks:  20%|██        | 39/192 [00:02<02:53,  1.14s/it]\u001b[A\n",
      "Subblocks:  35%|███▍      | 67/192 [00:02<01:39,  1.25it/s]\u001b[A\n",
      "Subblocks:  50%|█████     | 96/192 [00:02<00:53,  1.79it/s]\u001b[A\n",
      "Subblocks:  65%|██████▍   | 124/192 [00:02<00:26,  2.55it/s]\u001b[A\n",
      "Subblocks:  79%|███████▉  | 152/192 [00:02<00:11,  3.63it/s]\u001b[A\n",
      "Subblocks:  94%|█████████▍| 181/192 [00:03<00:02,  5.15it/s]\u001b[A\n",
      "Blocks: 100%|██████████| 1/1 [00:03<00:00,  3.12s/it]       \u001b[A\n"
     ]
    }
   ],
   "source": [
    "rvb.record(raw_file_stem='/datax/scratch/bbrzycki/data/raw_files/example_multi',\n",
    "           num_blocks=1, \n",
    "           length_mode='num_blocks',\n",
    "           header_dict={'HELLO': 'test_value'},\n",
    "           verbose=False)"
   ]
  },
  {
   "cell_type": "code",
   "execution_count": null,
   "metadata": {},
   "outputs": [],
   "source": []
  }
 ],
 "metadata": {
  "kernelspec": {
   "display_name": "Python (bl_tf)",
   "language": "python",
   "name": "ml"
  },
  "language_info": {
   "codemirror_mode": {
    "name": "ipython",
    "version": 3
   },
   "file_extension": ".py",
   "mimetype": "text/x-python",
   "name": "python",
   "nbconvert_exporter": "python",
   "pygments_lexer": "ipython3",
   "version": "3.8.3"
  }
 },
 "nbformat": 4,
 "nbformat_minor": 4
}
