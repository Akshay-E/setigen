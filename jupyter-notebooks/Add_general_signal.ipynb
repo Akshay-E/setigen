{
 "cells": [
  {
   "cell_type": "code",
   "execution_count": 1,
   "metadata": {},
   "outputs": [
    {
     "name": "stderr",
     "output_type": "stream",
     "text": [
      "/Users/bbrzycki/anaconda3/envs/breakthroughlisten27/lib/python2.7/site-packages/h5py/__init__.py:36: FutureWarning: Conversion of the second argument of issubdtype from `float` to `np.floating` is deprecated. In future, it will be treated as `np.float64 == np.dtype(float).type`.\n",
      "  from ._conv import register_converters as _register_converters\n"
     ]
    }
   ],
   "source": [
    "import numpy as np\n",
    "from blimpy import read_header, Waterfall, Filterbank\n",
    "\n",
    "%matplotlib inline\n",
    "import matplotlib.pyplot as plt\n",
    "\n",
    "import sys, os, glob\n",
    "sys.path.append(\"../\")\n",
    "import setigen\n",
    "\n",
    "# # 200\n",
    "# i = 200\n",
    "# fn = '/datax/users/bryanb/data/split_files/4194304_%04d.fil' % i\n",
    "# fil = Waterfall(fn)"
   ]
  },
  {
   "cell_type": "code",
   "execution_count": 2,
   "metadata": {},
   "outputs": [
    {
     "data": {
      "text/plain": [
       "<module 'setigen' from '../setigen/__init__.pyc'>"
      ]
     },
     "execution_count": 2,
     "metadata": {},
     "output_type": "execute_result"
    }
   ],
   "source": [
    "setigen"
   ]
  },
  {
   "cell_type": "code",
   "execution_count": 3,
   "metadata": {},
   "outputs": [],
   "source": [
    "tsamp = 18.253611008\n",
    "fch1 = 6095.214842353016\n",
    "df = -2.7939677238464355e-06\n",
    "\n",
    "fchans = 1024\n",
    "tchans = 16"
   ]
  },
  {
   "cell_type": "code",
   "execution_count": 32,
   "metadata": {},
   "outputs": [],
   "source": [
    "fs = np.arange(fch1, fch1 + fchans*df, df)\n",
    "ts = np.arange(0, tchans*tsamp, tsamp)"
   ]
  },
  {
   "cell_type": "code",
   "execution_count": 5,
   "metadata": {},
   "outputs": [
    {
     "data": {
      "text/plain": [
       "(array([6095.21484235, 6095.21483956, 6095.21483677, ..., 6095.21198971,\n",
       "        6095.21198692, 6095.21198412]),\n",
       " array([  0.        ,  18.25361101,  36.50722202,  54.76083302,\n",
       "         73.01444403,  91.26805504, 109.52166605, 127.77527706,\n",
       "        146.02888806, 164.28249907, 182.53611008, 200.78972109,\n",
       "        219.0433321 , 237.2969431 , 255.55055411, 273.80416512]))"
      ]
     },
     "execution_count": 5,
     "metadata": {},
     "output_type": "execute_result"
    }
   ],
   "source": [
    "fs, ts"
   ]
  },
  {
   "cell_type": "code",
   "execution_count": 6,
   "metadata": {},
   "outputs": [],
   "source": [
    "data = np.zeros((ts.size, fs.size))"
   ]
  },
  {
   "cell_type": "code",
   "execution_count": 7,
   "metadata": {},
   "outputs": [
    {
     "data": {
      "text/plain": [
       "1024"
      ]
     },
     "execution_count": 7,
     "metadata": {},
     "output_type": "execute_result"
    }
   ],
   "source": [
    "data[0].size"
   ]
  },
  {
   "cell_type": "code",
   "execution_count": 8,
   "metadata": {},
   "outputs": [],
   "source": [
    "def freq(time, f_start, drift_rate):\n",
    "    \"\"\"\n",
    "    Calculates central frequency as a function of time, for linear frequency drift\n",
    "    \n",
    "    Args:\n",
    "        time, NumPy array of timestamps\n",
    "        f_start, starting frequency of signal\n",
    "        drift_rate, slope of drift (make sure you use proper units)\n",
    "    \n",
    "    \"\"\"\n",
    "    return f_start + drift_rate * time"
   ]
  },
  {
   "cell_type": "code",
   "execution_count": 9,
   "metadata": {},
   "outputs": [
    {
     "data": {
      "text/plain": [
       "array([6095.21372477, 6095.2136335 , 6095.21354223, 6095.21345096,\n",
       "       6095.21335969, 6095.21326843, 6095.21317716, 6095.21308589,\n",
       "       6095.21299462, 6095.21290335, 6095.21281209, 6095.21272082,\n",
       "       6095.21262955, 6095.21253828, 6095.21244701, 6095.21235575])"
      ]
     },
     "execution_count": 9,
     "metadata": {},
     "output_type": "execute_result"
    }
   ],
   "source": [
    "signal = freq(ts, fs[400], -0.000005)\n",
    "signal"
   ]
  },
  {
   "cell_type": "code",
   "execution_count": 10,
   "metadata": {},
   "outputs": [
    {
     "data": {
      "text/plain": [
       "<matplotlib.colorbar.Colorbar at 0x1a24d9dc90>"
      ]
     },
     "execution_count": 10,
     "metadata": {},
     "output_type": "execute_result"
    },
    {
     "data": {
      "image/png": "[encoded data removed]",
      "text/plain": [
       "<Figure size 432x288 with 2 Axes>"
      ]
     },
     "metadata": {},
     "output_type": "display_data"
    }
   ],
   "source": [
    "plt.imshow(data, aspect='auto')\n",
    "plt.colorbar()"
   ]
  },
  {
   "cell_type": "raw",
   "metadata": {},
   "source": [
    "def freq_shape(f, f_center):\n",
    "    if np.abs(f-f_center) < 0.00001:\n",
    "        return 1\n",
    "    else:\n",
    "        return 0"
   ]
  },
  {
   "cell_type": "code",
   "execution_count": null,
   "metadata": {},
   "outputs": [],
   "source": [
    "for j in np.arange(ts.size):\n",
    "    for i in np.arange(fs.size):\n",
    "        "
   ]
  },
  {
   "cell_type": "code",
   "execution_count": 11,
   "metadata": {},
   "outputs": [],
   "source": [
    "tt, ff = np.meshgrid(ts, fs)"
   ]
  },
  {
   "cell_type": "code",
   "execution_count": 13,
   "metadata": {},
   "outputs": [
    {
     "data": {
      "text/plain": [
       "(array([[  0.        ,  18.25361101,  36.50722202, ..., 237.2969431 ,\n",
       "         255.55055411, 273.80416512],\n",
       "        [  0.        ,  18.25361101,  36.50722202, ..., 237.2969431 ,\n",
       "         255.55055411, 273.80416512],\n",
       "        [  0.        ,  18.25361101,  36.50722202, ..., 237.2969431 ,\n",
       "         255.55055411, 273.80416512],\n",
       "        ...,\n",
       "        [  0.        ,  18.25361101,  36.50722202, ..., 237.2969431 ,\n",
       "         255.55055411, 273.80416512],\n",
       "        [  0.        ,  18.25361101,  36.50722202, ..., 237.2969431 ,\n",
       "         255.55055411, 273.80416512],\n",
       "        [  0.        ,  18.25361101,  36.50722202, ..., 237.2969431 ,\n",
       "         255.55055411, 273.80416512]]),\n",
       " array([[6095.21484235, 6095.21484235, 6095.21484235, ..., 6095.21484235,\n",
       "         6095.21484235, 6095.21484235],\n",
       "        [6095.21483956, 6095.21483956, 6095.21483956, ..., 6095.21483956,\n",
       "         6095.21483956, 6095.21483956],\n",
       "        [6095.21483677, 6095.21483677, 6095.21483677, ..., 6095.21483677,\n",
       "         6095.21483677, 6095.21483677],\n",
       "        ...,\n",
       "        [6095.21198971, 6095.21198971, 6095.21198971, ..., 6095.21198971,\n",
       "         6095.21198971, 6095.21198971],\n",
       "        [6095.21198692, 6095.21198692, 6095.21198692, ..., 6095.21198692,\n",
       "         6095.21198692, 6095.21198692],\n",
       "        [6095.21198412, 6095.21198412, 6095.21198412, ..., 6095.21198412,\n",
       "         6095.21198412, 6095.21198412]]))"
      ]
     },
     "execution_count": 13,
     "metadata": {},
     "output_type": "execute_result"
    }
   ],
   "source": [
    "tt, ff"
   ]
  },
  {
   "cell_type": "code",
   "execution_count": 174,
   "metadata": {},
   "outputs": [
    {
     "data": {
      "text/plain": [
       "<matplotlib.colorbar.Colorbar at 0x1a3419b210>"
      ]
     },
     "execution_count": 174,
     "metadata": {},
     "output_type": "execute_result"
    },
    {
     "data": {
      "image/png": "[encoded data removed]",
      "text/plain": [
       "<Figure size 720x432 with 2 Axes>"
      ]
     },
     "metadata": {},
     "output_type": "display_data"
    }
   ],
   "source": [
    "def gaussian(x, mu, sig):\n",
    "    return np.exp(-np.power(x - mu, 2.) / (2 * np.power(sig, 2.)))\n",
    "\n",
    "###\n",
    "\n",
    "def constant_curve(f_start, drift_rate):\n",
    "    def curve(t):\n",
    "        return f_start + drift_rate * t\n",
    "    return curve\n",
    "\n",
    "def squared_curve(f_start, drift_rate):\n",
    "    def curve(t):\n",
    "        return f_start + drift_rate * t**2\n",
    "    return curve\n",
    "\n",
    "def sine_curve(f_start, drift_rate, period, amplitude):\n",
    "    def curve(t):\n",
    "        return f_start + amplitude * np.sin(2*np.pi*t/period) + drift_rate * t\n",
    "    return curve\n",
    "\n",
    "###\n",
    "\n",
    "def box_shape(width = 0.00001):\n",
    "    def shape(f, f_center):\n",
    "        return (np.abs(f-f_center) < width).astype(int)\n",
    "    return shape\n",
    "\n",
    "def gaussian_shape(width = 0.00001):\n",
    "    def shape(f, f_center):\n",
    "        return gaussian(f, f_center, width)\n",
    "    return shape\n",
    "\n",
    "def multiple_gaussian_shape(width = 0.00001):\n",
    "    def shape(f, f_center):\n",
    "        return gaussian(f, f_center - 0.0001, width)/4 \\\n",
    "            + gaussian(f, f_center, width) \\\n",
    "            + gaussian(f, f_center + 0.0001, width)/4\n",
    "    return shape\n",
    "\n",
    "###\n",
    "\n",
    "def constant_intensity(level=1):\n",
    "    def intensity(t):\n",
    "        return level\n",
    "    return intensity\n",
    "\n",
    "def sine_intensity(period, amplitude=1, level=1):\n",
    "    def intensity(t):\n",
    "        return amplitude * np.sin(2*np.pi*t/period) + level\n",
    "    return intensity\n",
    "\n",
    "###\n",
    "\n",
    "def render(t, \n",
    "           f,\n",
    "           curve, \n",
    "           shape, \n",
    "           intensity):\n",
    "    return intensity(t) * shape(f, curve(t))\n",
    "    \n",
    "test = render(tt, \n",
    "              ff, \n",
    "              sine_curve(f_start = fs[200], drift_rate = -0.000002,\n",
    "                         period = 100, amplitude = 0.00002), \n",
    "              multiple_gaussian_shape(width = 0.00001), \n",
    "              sine_intensity(period = 100, amplitude = 3, level = 5))\n",
    "plt.figure(figsize=(10,6))\n",
    "plt.imshow(test, aspect='auto')\n",
    "plt.colorbar()"
   ]
  },
  {
   "cell_type": "code",
   "execution_count": 175,
   "metadata": {},
   "outputs": [
    {
     "data": {
      "text/plain": [
       "array([[  0.        ,   0.        ,   0.        , ...,   0.        ,\n",
       "          0.        ,   0.        ],\n",
       "       [ 18.25361101,  18.25361101,  18.25361101, ...,  18.25361101,\n",
       "         18.25361101,  18.25361101],\n",
       "       [ 36.50722202,  36.50722202,  36.50722202, ...,  36.50722202,\n",
       "         36.50722202,  36.50722202],\n",
       "       ...,\n",
       "       [237.2969431 , 237.2969431 , 237.2969431 , ..., 237.2969431 ,\n",
       "        237.2969431 , 237.2969431 ],\n",
       "       [255.55055411, 255.55055411, 255.55055411, ..., 255.55055411,\n",
       "        255.55055411, 255.55055411],\n",
       "       [273.80416512, 273.80416512, 273.80416512, ..., 273.80416512,\n",
       "        273.80416512, 273.80416512]])"
      ]
     },
     "execution_count": 175,
     "metadata": {},
     "output_type": "execute_result"
    }
   ],
   "source": [
    "tt"
   ]
  },
  {
   "cell_type": "code",
   "execution_count": 107,
   "metadata": {},
   "outputs": [
    {
     "data": {
      "text/plain": [
       "array([1.        , 1.99974262, 0.95463831, 0.00231559, 1.09063   ,\n",
       "       1.99357222, 0.86428828, 0.01258548, 1.18051405, 1.97922399,\n",
       "       0.77505526, 0.03098251, 1.26891233, 1.95681603, 0.6876737 ,\n",
       "       0.05735527])"
      ]
     },
     "execution_count": 107,
     "metadata": {},
     "output_type": "execute_result"
    }
   ],
   "source": [
    "sine_intensity(ts, 1)"
   ]
  },
  {
   "cell_type": "code",
   "execution_count": 125,
   "metadata": {},
   "outputs": [],
   "source": [
    "def f(a):\n",
    "    return 2*a\n",
    "\n",
    "def x(b):\n",
    "    def f(a):\n",
    "        return 2*a + b\n",
    "    return f"
   ]
  },
  {
   "cell_type": "code",
   "execution_count": 129,
   "metadata": {},
   "outputs": [
    {
     "data": {
      "text/plain": [
       "1"
      ]
     },
     "execution_count": 129,
     "metadata": {},
     "output_type": "execute_result"
    }
   ],
   "source": [
    "x(3)(-1)"
   ]
  },
  {
   "cell_type": "code",
   "execution_count": null,
   "metadata": {},
   "outputs": [],
   "source": []
  }
 ],
 "metadata": {
  "kernelspec": {
   "display_name": "Python 2",
   "language": "python",
   "name": "python2"
  },
  "language_info": {
   "codemirror_mode": {
    "name": "ipython",
    "version": 2
   },
   "file_extension": ".py",
   "mimetype": "text/x-python",
   "name": "python",
   "nbconvert_exporter": "python",
   "pygments_lexer": "ipython2",
   "version": "2.7.15"
  }
 },
 "nbformat": 4,
 "nbformat_minor": 2
}
