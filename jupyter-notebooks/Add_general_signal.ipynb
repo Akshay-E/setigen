{
 "cells": [
  {
   "cell_type": "code",
   "execution_count": 1,
   "metadata": {},
   "outputs": [
    {
     "name": "stderr",
     "output_type": "stream",
     "text": [
      "/Users/bbrzycki/anaconda3/lib/python3.6/site-packages/h5py/__init__.py:36: FutureWarning: Conversion of the second argument of issubdtype from `float` to `np.floating` is deprecated. In future, it will be treated as `np.float64 == np.dtype(float).type`.\n",
      "  from ._conv import register_converters as _register_converters\n"
     ]
    }
   ],
   "source": [
    "import numpy as np\n",
    "from blimpy import read_header, Waterfall, Filterbank\n",
    "\n",
    "%matplotlib inline\n",
    "import matplotlib.pyplot as plt\n",
    "\n",
    "import sys, os, glob\n",
    "sys.path.append(\"../\")\n",
    "import setigen as stg\n",
    "\n",
    "# # 200\n",
    "# i = 200\n",
    "# fn = '/datax/users/bryanb/data/split_files/4194304_%04d.fil' % i\n",
    "# fil = Waterfall(fn)"
   ]
  },
  {
   "cell_type": "code",
   "execution_count": 26,
   "metadata": {},
   "outputs": [
    {
     "data": {
      "text/plain": [
       "<module 'setigen.generate_signal' from '../setigen/generate_signal.pyc'>"
      ]
     },
     "execution_count": 26,
     "metadata": {},
     "output_type": "execute_result"
    }
   ],
   "source": [
    "stg.generate_signal"
   ]
  },
  {
   "cell_type": "code",
   "execution_count": 2,
   "metadata": {},
   "outputs": [],
   "source": [
    "tsamp = 18.253611008\n",
    "fch1 = 6095.214842353016\n",
    "df = -2.7939677238464355e-06\n",
    "\n",
    "fchans = 1024\n",
    "tchans = 16"
   ]
  },
  {
   "cell_type": "code",
   "execution_count": 3,
   "metadata": {},
   "outputs": [],
   "source": [
    "fs = np.arange(fch1, fch1 + fchans*df, df)\n",
    "ts = np.arange(0, tchans*tsamp, tsamp)"
   ]
  },
  {
   "cell_type": "code",
   "execution_count": 5,
   "metadata": {},
   "outputs": [
    {
     "data": {
      "text/plain": [
       "(array([6095.21484235, 6095.21483956, 6095.21483677, ..., 6095.21198971,\n",
       "        6095.21198692, 6095.21198412]),\n",
       " array([  0.        ,  18.25361101,  36.50722202,  54.76083302,\n",
       "         73.01444403,  91.26805504, 109.52166605, 127.77527706,\n",
       "        146.02888806, 164.28249907, 182.53611008, 200.78972109,\n",
       "        219.0433321 , 237.2969431 , 255.55055411, 273.80416512]))"
      ]
     },
     "execution_count": 5,
     "metadata": {},
     "output_type": "execute_result"
    }
   ],
   "source": [
    "fs, ts"
   ]
  },
  {
   "cell_type": "code",
   "execution_count": 6,
   "metadata": {},
   "outputs": [],
   "source": [
    "data = np.zeros((ts.size, fs.size))"
   ]
  },
  {
   "cell_type": "code",
   "execution_count": 7,
   "metadata": {},
   "outputs": [
    {
     "data": {
      "text/plain": [
       "1024"
      ]
     },
     "execution_count": 7,
     "metadata": {},
     "output_type": "execute_result"
    }
   ],
   "source": [
    "data[0].size"
   ]
  },
  {
   "cell_type": "code",
   "execution_count": 8,
   "metadata": {},
   "outputs": [],
   "source": [
    "def freq(time, f_start, drift_rate):\n",
    "    \"\"\"\n",
    "    Calculates central frequency as a function of time, for linear frequency drift\n",
    "    \n",
    "    Args:\n",
    "        time, NumPy array of timestamps\n",
    "        f_start, starting frequency of signal\n",
    "        drift_rate, slope of drift (make sure you use proper units)\n",
    "    \n",
    "    \"\"\"\n",
    "    return f_start + drift_rate * time"
   ]
  },
  {
   "cell_type": "code",
   "execution_count": 9,
   "metadata": {},
   "outputs": [
    {
     "data": {
      "text/plain": [
       "array([6095.21372477, 6095.2136335 , 6095.21354223, 6095.21345096,\n",
       "       6095.21335969, 6095.21326843, 6095.21317716, 6095.21308589,\n",
       "       6095.21299462, 6095.21290335, 6095.21281209, 6095.21272082,\n",
       "       6095.21262955, 6095.21253828, 6095.21244701, 6095.21235575])"
      ]
     },
     "execution_count": 9,
     "metadata": {},
     "output_type": "execute_result"
    }
   ],
   "source": [
    "signal = freq(ts, fs[400], -0.000005)\n",
    "signal"
   ]
  },
  {
   "cell_type": "code",
   "execution_count": 10,
   "metadata": {},
   "outputs": [
    {
     "data": {
      "text/plain": [
       "<matplotlib.colorbar.Colorbar at 0x1a24d9dc90>"
      ]
     },
     "execution_count": 10,
     "metadata": {},
     "output_type": "execute_result"
    },
    {
     "data": {
      "image/png": "[encoded data removed]",
      "text/plain": [
       "<Figure size 432x288 with 2 Axes>"
      ]
     },
     "metadata": {},
     "output_type": "display_data"
    }
   ],
   "source": [
    "plt.imshow(data, aspect='auto')\n",
    "plt.colorbar()"
   ]
  },
  {
   "cell_type": "raw",
   "metadata": {},
   "source": [
    "def freq_shape(f, f_center):\n",
    "    if np.abs(f-f_center) < 0.00001:\n",
    "        return 1\n",
    "    else:\n",
    "        return 0"
   ]
  },
  {
   "cell_type": "code",
   "execution_count": null,
   "metadata": {},
   "outputs": [],
   "source": [
    "for j in np.arange(ts.size):\n",
    "    for i in np.arange(fs.size):\n",
    "        "
   ]
  },
  {
   "cell_type": "code",
   "execution_count": 11,
   "metadata": {},
   "outputs": [],
   "source": [
    "tt, ff = np.meshgrid(ts, fs)"
   ]
  },
  {
   "cell_type": "code",
   "execution_count": 13,
   "metadata": {},
   "outputs": [
    {
     "data": {
      "text/plain": [
       "(array([[  0.        ,  18.25361101,  36.50722202, ..., 237.2969431 ,\n",
       "         255.55055411, 273.80416512],\n",
       "        [  0.        ,  18.25361101,  36.50722202, ..., 237.2969431 ,\n",
       "         255.55055411, 273.80416512],\n",
       "        [  0.        ,  18.25361101,  36.50722202, ..., 237.2969431 ,\n",
       "         255.55055411, 273.80416512],\n",
       "        ...,\n",
       "        [  0.        ,  18.25361101,  36.50722202, ..., 237.2969431 ,\n",
       "         255.55055411, 273.80416512],\n",
       "        [  0.        ,  18.25361101,  36.50722202, ..., 237.2969431 ,\n",
       "         255.55055411, 273.80416512],\n",
       "        [  0.        ,  18.25361101,  36.50722202, ..., 237.2969431 ,\n",
       "         255.55055411, 273.80416512]]),\n",
       " array([[6095.21484235, 6095.21484235, 6095.21484235, ..., 6095.21484235,\n",
       "         6095.21484235, 6095.21484235],\n",
       "        [6095.21483956, 6095.21483956, 6095.21483956, ..., 6095.21483956,\n",
       "         6095.21483956, 6095.21483956],\n",
       "        [6095.21483677, 6095.21483677, 6095.21483677, ..., 6095.21483677,\n",
       "         6095.21483677, 6095.21483677],\n",
       "        ...,\n",
       "        [6095.21198971, 6095.21198971, 6095.21198971, ..., 6095.21198971,\n",
       "         6095.21198971, 6095.21198971],\n",
       "        [6095.21198692, 6095.21198692, 6095.21198692, ..., 6095.21198692,\n",
       "         6095.21198692, 6095.21198692],\n",
       "        [6095.21198412, 6095.21198412, 6095.21198412, ..., 6095.21198412,\n",
       "         6095.21198412, 6095.21198412]]))"
      ]
     },
     "execution_count": 13,
     "metadata": {},
     "output_type": "execute_result"
    }
   ],
   "source": [
    "tt, ff"
   ]
  },
  {
   "cell_type": "code",
   "execution_count": 174,
   "metadata": {},
   "outputs": [
    {
     "data": {
      "text/plain": [
       "<matplotlib.colorbar.Colorbar at 0x1a3419b210>"
      ]
     },
     "execution_count": 174,
     "metadata": {},
     "output_type": "execute_result"
    },
    {
     "data": {
      "image/png": "[encoded data removed]",
      "text/plain": [
       "<Figure size 720x432 with 2 Axes>"
      ]
     },
     "metadata": {},
     "output_type": "display_data"
    }
   ],
   "source": [
    "def gaussian(x, mu, sig):\n",
    "    return np.exp(-np.power(x - mu, 2.) / (2 * np.power(sig, 2.)))\n",
    "\n",
    "###\n",
    "\n",
    "def constant_path(f_start, drift_rate):\n",
    "    def path(t):\n",
    "        return f_start + drift_rate * t\n",
    "    return path\n",
    "\n",
    "def squared_path(f_start, drift_rate):\n",
    "    def path(t):\n",
    "        return f_start + drift_rate * t**2\n",
    "    return path\n",
    "\n",
    "def sine_path(f_start, drift_rate, period, amplitude):\n",
    "    def path(t):\n",
    "        return f_start + amplitude * np.sin(2*np.pi*t/period) + drift_rate * t\n",
    "    return path\n",
    "\n",
    "###\n",
    "\n",
    "def box_fprofile(width = 0.00001):\n",
    "    def fprofile(f, f_center):\n",
    "        return (np.abs(f-f_center) < width).astype(int)\n",
    "    return fprofile\n",
    "\n",
    "def gaussian_fprofile(width = 0.00001):\n",
    "    def fprofile(f, f_center):\n",
    "        return gaussian(f, f_center, width)\n",
    "    return fprofile\n",
    "\n",
    "def multiple_gaussian_fprofile(width = 0.00001):\n",
    "    def fprofile(f, f_center):\n",
    "        return gaussian(f, f_center - 0.0001, width)/4 \\\n",
    "            + gaussian(f, f_center, width) \\\n",
    "            + gaussian(f, f_center + 0.0001, width)/4\n",
    "    return fprofile\n",
    "\n",
    "###\n",
    "\n",
    "def constant_intensity(level=1):\n",
    "    def intensity(t):\n",
    "        return level\n",
    "    return intensity\n",
    "\n",
    "def sine_intensity(period, amplitude=1, level=1):\n",
    "    intensity = lambda t: amplitude * np.sin(2*np.pi*t/period) + level\n",
    "    return intensity\n",
    "\n",
    "###\n",
    "\n",
    "def constant_bp_profile(level=1):\n",
    "    def bp_profile(f):\n",
    "        return level\n",
    "    return bp_profile\n",
    "\n",
    "def render(t, \n",
    "           f,\n",
    "           path, \n",
    "           t_profile,\n",
    "           f_profile,\n",
    "           bp_profile):\n",
    "    return t_profile(t) * f_profile(f, path(t)) * bp_profile(f)\n",
    "    \n",
    "test = render(tt, \n",
    "              ff, \n",
    "              sine_path(f_start = fs[200], drift_rate = -0.000002,\n",
    "                         period = 100, amplitude = 0.00002),  \n",
    "              sine_intensity(period = 100, amplitude = 3, level = 5),\n",
    "              multiple_gaussian_fprofile(width = 0.00001),\n",
    "              constant_bp_profile(level = 1))\n",
    "plt.figure(figsize=(10,6))\n",
    "plt.imshow(test, aspect='auto')\n",
    "plt.colorbar()"
   ]
  },
  {
   "cell_type": "code",
   "execution_count": 175,
   "metadata": {},
   "outputs": [
    {
     "data": {
      "text/plain": [
       "array([[  0.        ,   0.        ,   0.        , ...,   0.        ,\n",
       "          0.        ,   0.        ],\n",
       "       [ 18.25361101,  18.25361101,  18.25361101, ...,  18.25361101,\n",
       "         18.25361101,  18.25361101],\n",
       "       [ 36.50722202,  36.50722202,  36.50722202, ...,  36.50722202,\n",
       "         36.50722202,  36.50722202],\n",
       "       ...,\n",
       "       [237.2969431 , 237.2969431 , 237.2969431 , ..., 237.2969431 ,\n",
       "        237.2969431 , 237.2969431 ],\n",
       "       [255.55055411, 255.55055411, 255.55055411, ..., 255.55055411,\n",
       "        255.55055411, 255.55055411],\n",
       "       [273.80416512, 273.80416512, 273.80416512, ..., 273.80416512,\n",
       "        273.80416512, 273.80416512]])"
      ]
     },
     "execution_count": 175,
     "metadata": {},
     "output_type": "execute_result"
    }
   ],
   "source": [
    "tt"
   ]
  },
  {
   "cell_type": "code",
   "execution_count": 107,
   "metadata": {},
   "outputs": [
    {
     "data": {
      "text/plain": [
       "array([1.        , 1.99974262, 0.95463831, 0.00231559, 1.09063   ,\n",
       "       1.99357222, 0.86428828, 0.01258548, 1.18051405, 1.97922399,\n",
       "       0.77505526, 0.03098251, 1.26891233, 1.95681603, 0.6876737 ,\n",
       "       0.05735527])"
      ]
     },
     "execution_count": 107,
     "metadata": {},
     "output_type": "execute_result"
    }
   ],
   "source": [
    "sine_intensity(ts, 1)"
   ]
  },
  {
   "cell_type": "code",
   "execution_count": 125,
   "metadata": {},
   "outputs": [],
   "source": [
    "def f(a):\n",
    "    return 2*a\n",
    "\n",
    "def x(b):\n",
    "    def f(a):\n",
    "        return 2*a + b\n",
    "    return f"
   ]
  },
  {
   "cell_type": "code",
   "execution_count": 129,
   "metadata": {},
   "outputs": [
    {
     "data": {
      "text/plain": [
       "1"
      ]
     },
     "execution_count": 129,
     "metadata": {},
     "output_type": "execute_result"
    }
   ],
   "source": [
    "x(3)(-1)"
   ]
  },
  {
   "cell_type": "code",
   "execution_count": 6,
   "metadata": {},
   "outputs": [
    {
     "ename": "NameError",
     "evalue": "name 'generate' is not defined",
     "output_type": "error",
     "traceback": [
      "\u001b[0;31m---------------------------------------------------------------------------\u001b[0m",
      "\u001b[0;31mNameError\u001b[0m                                 Traceback (most recent call last)",
      "\u001b[0;32m<ipython-input-6-b97e0091fa1b>\u001b[0m in \u001b[0;36m<module>\u001b[0;34m()\u001b[0m\n\u001b[0;32m----> 1\u001b[0;31m \u001b[0mgenerate\u001b[0m\u001b[0;34m(\u001b[0m\u001b[0;34m)\u001b[0m\u001b[0;34m\u001b[0m\u001b[0m\n\u001b[0m",
      "\u001b[0;31mNameError\u001b[0m: name 'generate' is not defined"
     ]
    }
   ],
   "source": [
    "generate()"
   ]
  },
  {
   "cell_type": "code",
   "execution_count": 43,
   "metadata": {},
   "outputs": [
    {
     "data": {
      "text/plain": [
       "<matplotlib.colorbar.Colorbar at 0x1a227f6860>"
      ]
     },
     "execution_count": 43,
     "metadata": {},
     "output_type": "execute_result"
    },
    {
     "data": {
      "image/png": "[encoded data removed]",
      "text/plain": [
       "<Figure size 720x432 with 2 Axes>"
      ]
     },
     "metadata": {},
     "output_type": "display_data"
    }
   ],
   "source": [
    "signal = stg.generate(ts, fs, stg.sine_path(f_start = fs[200], drift_rate = -0.000002,\n",
    "                                            period = 100, amplitude = 0.00002),\n",
    "                              stg.sine_t_profile(period = 100, amplitude = 3, level = 5),\n",
    "                              stg.multiple_gaussian_f_profile(width = 0.00001),\n",
    "                              stg.constant_bp_profile(level = 1))\n",
    "\n",
    "fig = plt.figure(figsize=(10,6))\n",
    "im = plt.imshow(signal, aspect='auto')\n",
    "plt.colorbar()\n",
    "# fig.savefig(\"image.png\")"
   ]
  },
  {
   "cell_type": "code",
   "execution_count": 4,
   "metadata": {},
   "outputs": [],
   "source": [
    "signal = stg.generate(ts,\n",
    "                          fs,\n",
    "                          stg.constant_path(f_start = fs[200], drift_rate = -0.000002),\n",
    "                          stg.constant_t_profile(level = 1),\n",
    "                          stg.box_f_profile(width = 0.00001),\n",
    "                          stg.constant_bp_profile(level = 1))"
   ]
  },
  {
   "cell_type": "code",
   "execution_count": 8,
   "metadata": {},
   "outputs": [
    {
     "data": {
      "image/png": "[encoded data removed]",
      "text/plain": [
       "<Figure size 720x432 with 2 Axes>"
      ]
     },
     "metadata": {},
     "output_type": "display_data"
    }
   ],
   "source": [
    "import matplotlib.pyplot as plt\n",
    "fig = plt.figure(figsize=(10,6))\n",
    "plt.imshow(signal, aspect='auto')\n",
    "plt.colorbar()\n",
    "fig.savefig(\"../doc/source/cookbook/basic_signal.png\", bbox_inches='tight')"
   ]
  },
  {
   "cell_type": "code",
   "execution_count": 8,
   "metadata": {},
   "outputs": [
    {
     "data": {
      "text/plain": [
       "<matplotlib.colorbar.Colorbar at 0x7f8c3e860790>"
      ]
     },
     "execution_count": 8,
     "metadata": {},
     "output_type": "execute_result"
    },
    {
     "data": {
      "image/png": "[encoded data removed]",
      "text/plain": [
       "<matplotlib.figure.Figure at 0x7f8c3e9e6550>"
      ]
     },
     "metadata": {},
     "output_type": "display_data"
    }
   ],
   "source": [
    "ts = stg.get_ts(fn)\n",
    "fs = stg.get_fs(fn)\n",
    "data = stg.get_data(fn)\n",
    "\n",
    "fig = plt.figure(figsize=(10,6))\n",
    "plt.imshow(stg.normalize(data), aspect='auto')\n",
    "plt.colorbar()"
   ]
  },
  {
   "cell_type": "code",
   "execution_count": 9,
   "metadata": {},
   "outputs": [
    {
     "data": {
      "text/plain": [
       "{'az_start': 0.0,\n",
       " 'data_type': 1,\n",
       " 'fch1': 6095.214842353016,\n",
       " 'foff': -2.7939677238464355e-06,\n",
       " 'machine_id': 20,\n",
       " 'nbits': 32,\n",
       " 'nchans': 4194304,\n",
       " 'nifs': 1,\n",
       " 'source_name': 'HIP43223',\n",
       " 'src_dej': <Angle 18.7477 deg>,\n",
       " 'src_raj': <Angle 8.80492 hourangle>,\n",
       " 'telescope_id': 6,\n",
       " 'tsamp': 18.253611008,\n",
       " 'tstart': 58090.468206018515,\n",
       " 'za_start': 0.0}"
      ]
     },
     "execution_count": 9,
     "metadata": {},
     "output_type": "execute_result"
    }
   ],
   "source": [
    "fil.header"
   ]
  },
  {
   "cell_type": "code",
   "execution_count": 10,
   "metadata": {},
   "outputs": [
    {
     "data": {
      "text/plain": [
       "1048576"
      ]
     },
     "execution_count": 10,
     "metadata": {},
     "output_type": "execute_result"
    }
   ],
   "source": [
    "4194304/4"
   ]
  },
  {
   "cell_type": "code",
   "execution_count": 11,
   "metadata": {},
   "outputs": [
    {
     "data": {
      "text/plain": [
       "1664"
      ]
     },
     "execution_count": 11,
     "metadata": {},
     "output_type": "execute_result"
    }
   ],
   "source": [
    "1744830464 / 1048576"
   ]
  },
  {
   "cell_type": "code",
   "execution_count": 8,
   "metadata": {},
   "outputs": [
    {
     "data": {
      "text/plain": [
       "<matplotlib.colorbar.Colorbar at 0x1a1642e400>"
      ]
     },
     "execution_count": 8,
     "metadata": {},
     "output_type": "execute_result"
    },
    {
     "data": {
      "image/png": "[encoded data removed]",
      "text/plain": [
       "<Figure size 720x432 with 2 Axes>"
      ]
     },
     "metadata": {},
     "output_type": "display_data"
    }
   ],
   "source": [
    "signal = stg.generate(ts,\n",
    "                          fs,\n",
    "                          stg.constant_path(f_start = fs[200], drift_rate = -0.000002),\n",
    "                          stg.constant_t_profile(level = 2.0),\n",
    "                          stg.box_f_profile(width = 0.00001),\n",
    "                          stg.constant_bp_profile(level = 1.0))\n",
    "\n",
    "fig = plt.figure(figsize=(10,6))\n",
    "plt.imshow(stg.normalize(stg.inject_noise(signal)), aspect='auto')\n",
    "plt.colorbar()"
   ]
  },
  {
   "cell_type": "code",
   "execution_count": null,
   "metadata": {},
   "outputs": [],
   "source": []
  }
 ],
 "metadata": {
  "kernelspec": {
   "display_name": "Python 2",
   "language": "python",
   "name": "python2"
  },
  "language_info": {
   "codemirror_mode": {
    "name": "ipython",
    "version": 3
   },
   "file_extension": ".py",
   "mimetype": "text/x-python",
   "name": "python",
   "nbconvert_exporter": "python",
   "pygments_lexer": "ipython3",
   "version": "3.6.5"
  }
 },
 "nbformat": 4,
 "nbformat_minor": 2
}
