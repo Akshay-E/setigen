{
 "cells": [
  {
   "cell_type": "markdown",
   "metadata": {},
   "source": [
    "# Working with Observational Frames"
   ]
  },
  {
   "cell_type": "code",
   "execution_count": 1,
   "metadata": {},
   "outputs": [],
   "source": [
    "%reload_ext autoreload\n",
    "%autoreload 2\n",
    "\n",
    "import numpy as np\n",
    "from astropy import units as u\n",
    "import time\n",
    "\n",
    "import blimpy as bl\n",
    "\n",
    "import sys, os, glob\n",
    "sys.path.insert(0, \"../../\")\n",
    "import setigen as stg"
   ]
  },
  {
   "cell_type": "code",
   "execution_count": 2,
   "metadata": {},
   "outputs": [],
   "source": [
    "%matplotlib inline\n",
    "import matplotlib.pyplot as plt"
   ]
  },
  {
   "cell_type": "code",
   "execution_count": 3,
   "metadata": {},
   "outputs": [
    {
     "data": {
      "text/plain": [
       "{b'rawdatafile': b'guppi_58331_12383_DIAG_SGR_B2_0014.0000.raw',\n",
       " b'source_name': b'DIAG_SGR_B2',\n",
       " b'machine_id': 20,\n",
       " b'telescope_id': 6,\n",
       " b'src_raj': <Angle 17.78900667 hourangle>,\n",
       " b'src_dej': <Angle -28.3854 deg>,\n",
       " b'az_start': 0.0,\n",
       " b'za_start': 0.0,\n",
       " b'data_type': 1,\n",
       " b'fch1': 3151.464842353016,\n",
       " b'foff': -2.7939677238464355e-06,\n",
       " b'nchans': 67108864,\n",
       " b'nbeams': 1,\n",
       " b'ibeam': 1,\n",
       " b'nbits': 32,\n",
       " b'tstart': 58331.14332175926,\n",
       " b'tsamp': 18.253611008,\n",
       " b'nifs': 1}"
      ]
     },
     "execution_count": 3,
     "metadata": {},
     "output_type": "execute_result"
    }
   ],
   "source": [
    "# Using high resolution BL data products from one compute node\n",
    "obs_fn = '/datax/scratch/bbrzycki/old/data/blc00_guppi_58331_12383_DIAG_SGR_B2_0014.gpuspec.0000.fil'\n",
    "bl.read_header(obs_fn)"
   ]
  },
  {
   "cell_type": "code",
   "execution_count": 4,
   "metadata": {},
   "outputs": [],
   "source": [
    "def fil_to_frame(fil_fn, f_start=None, f_stop=None):\n",
    "    fil = bl.Waterfall(fil_fn, f_start=f_start, f_stop=f_stop)\n",
    "        \n",
    "    # Fix some header values\n",
    "    fil.header[b'fch1'] = fil.file_header[b'fch1'] = f_stop\n",
    "    fil.header[b'nchans'] = fil.file_header[b'nchans'] = 1024\n",
    "    \n",
    "    return fil"
   ]
  },
  {
   "cell_type": "code",
   "execution_count": 4,
   "metadata": {},
   "outputs": [
    {
     "name": "stdout",
     "output_type": "stream",
     "text": [
      "0.000156402587890625\n"
     ]
    }
   ],
   "source": [
    "start = time.time()\n",
    "frame_itr = stg.split_fil_generator(obs_fn, fchans=1024, tchans=16)\n",
    "print(time.time() - start)"
   ]
  },
  {
   "cell_type": "code",
   "execution_count": 5,
   "metadata": {},
   "outputs": [
    {
     "name": "stdout",
     "output_type": "stream",
     "text": [
      "blimpy.io.file_wrapper INFO     Skipping loading data ...\n"
     ]
    },
    {
     "data": {
      "text/plain": [
       "(0.007764101028442383, 0.004717350006103516)"
      ]
     },
     "execution_count": 5,
     "metadata": {},
     "output_type": "execute_result"
    }
   ],
   "source": [
    "time0 = time.time()\n",
    "\n",
    "fil = next(frame_itr)\n",
    "time1 = time.time()\n",
    "\n",
    "frame = stg.Frame(fil=fil)\n",
    "time2 = time.time()\n",
    "\n",
    "# min_freq = stg.min_freq(fil)\n",
    "# max_freq =  stg.max_freq(fil)\n",
    "# print(min_freq, max_freq)\n",
    "\n",
    "time1 - time0, time2 - time1"
   ]
  },
  {
   "cell_type": "code",
   "execution_count": 6,
   "metadata": {},
   "outputs": [
    {
     "data": {
      "image/png": "[encoded data removed]",
      "text/plain": [
       "<Figure size 432x288 with 2 Axes>"
      ]
     },
     "metadata": {
      "needs_background": "light"
     },
     "output_type": "display_data"
    }
   ],
   "source": [
    "num_signals = 4\n",
    "\n",
    "p = 2\n",
    "tscint = 50\n",
    "rho = stg.get_rho(frame.ts, tscint, p)\n",
    "\n",
    "Z = stg.build_Z(rho, frame.tchans * num_signals)\n",
    "Y = stg.get_Y(Z)\n",
    "# print(stg.autocorrelation(Y, p+1)[1:])\n",
    "\n",
    "\n",
    "signal = frame.add_signal(stg.constant_path(f_start=frame.fs[200], drift_rate=1*u.Hz/u.s),\n",
    "                          Y[:frame.tchans] * frame.get_intensity(25),\n",
    "                          stg.gaussian_f_profile(width=30*u.Hz),\n",
    "                          stg.constant_bp_profile(level=1))\n",
    "\n",
    "signal = frame.add_signal(stg.constant_path(f_start=frame.fs[400], drift_rate=1*u.Hz/u.s),\n",
    "                          Y[frame.tchans:2*frame.tchans] * frame.get_intensity(25),\n",
    "                          stg.lorentzian_f_profile(width=30*u.Hz),\n",
    "                          stg.constant_bp_profile(level=1))\n",
    "\n",
    "signal = frame.add_signal(stg.constant_path(f_start=frame.fs[600], drift_rate=1*u.Hz/u.s),\n",
    "                          Y[2*frame.tchans:3*frame.tchans] * frame.get_intensity(25),\n",
    "                          stg.lorentzian_f_profile(width=30*u.Hz),\n",
    "                          stg.constant_bp_profile(level=1))\n",
    "\n",
    "signal = frame.add_signal(stg.constant_path(f_start=frame.fs[800], drift_rate=1*u.Hz/u.s),\n",
    "                          Y[3*frame.tchans:] * frame.get_intensity(25),\n",
    "                          stg.gaussian_f_profile(width=30*u.Hz),\n",
    "                          stg.constant_bp_profile(level=1))\n",
    "\n",
    "frame.show()"
   ]
  },
  {
   "cell_type": "code",
   "execution_count": 45,
   "metadata": {},
   "outputs": [
    {
     "data": {
      "text/plain": [
       "{'fil': Waterfall data: /datax/scratch/bbrzycki/old/data/blc00_guppi_58331_12383_DIAG_SGR_B2_0014.gpuspec.0000.fil,\n",
       " 'header': {b'rawdatafile': b'guppi_58331_12383_DIAG_SGR_B2_0014.0000.raw',\n",
       "  b'source_name': b'DIAG_SGR_B2',\n",
       "  b'machine_id': 20,\n",
       "  b'telescope_id': 6,\n",
       "  b'src_raj': <Angle 17.78900667 hourangle>,\n",
       "  b'src_dej': <Angle -28.3854 deg>,\n",
       "  b'az_start': 0.0,\n",
       "  b'za_start': 0.0,\n",
       "  b'data_type': 1,\n",
       "  b'fch1': 3151.464842353016,\n",
       "  b'foff': -2.7939677238464355e-06,\n",
       "  b'nchans': 67108864,\n",
       "  b'nbeams': 1,\n",
       "  b'ibeam': 1,\n",
       "  b'nbits': 32,\n",
       "  b'tstart': 58331.14332175926,\n",
       "  b'tsamp': 18.253611008,\n",
       "  b'nifs': 1},\n",
       " 'tchans': 16,\n",
       " 'fchans': 1024,\n",
       " 'df': 2.7939677238464355,\n",
       " 'fch1': 3151464842.353016,\n",
       " 'data': array([[55204184., 66280250., 70978490., ..., 73700880., 61869212.,\n",
       "         69472216.],\n",
       "        [67721144., 74628330., 84131430., ..., 61497816., 66798480.,\n",
       "         61100104.],\n",
       "        [66931824., 69839320., 68456400., ..., 75384360., 66016130.,\n",
       "         66591636.],\n",
       "        ...,\n",
       "        [68457144., 68216370., 72593920., ..., 62897704., 60865316.,\n",
       "         56974240.],\n",
       "        [57283884., 55493940., 61207268., ..., 63411892., 68435290.,\n",
       "         59409156.],\n",
       "        [61546224., 68222630., 66237690., ..., 65497016., 77148120.,\n",
       "         78462580.]], dtype=float32),\n",
       " 'dt': 18.253611008,\n",
       " 'shape': (16, 1024),\n",
       " 'fmax': 3151464842.353016,\n",
       " 'fmin': 3151461981.3300667,\n",
       " 'fs': array([3.15146198e+09, 3.15146199e+09, 3.15146199e+09, ...,\n",
       "        3.15146484e+09, 3.15146484e+09, 3.15146484e+09]),\n",
       " 'ts': array([  0.        ,  18.25361101,  36.50722202,  54.76083302,\n",
       "         73.01444403,  91.26805504, 109.52166605, 127.77527706,\n",
       "        146.02888806, 164.28249907, 182.53611008, 200.78972109,\n",
       "        219.0433321 , 237.2969431 , 255.55055411, 273.80416512]),\n",
       " 'noise_mean': 66591250.0,\n",
       " 'noise_std': 6446116.5}"
      ]
     },
     "execution_count": 45,
     "metadata": {},
     "output_type": "execute_result"
    }
   ],
   "source": [
    "vars(frame)"
   ]
  },
  {
   "cell_type": "code",
   "execution_count": 25,
   "metadata": {},
   "outputs": [
    {
     "data": {
      "image/png": "[encoded data removed]",
      "text/plain": [
       "<Figure size 432x288 with 2 Axes>"
      ]
     },
     "metadata": {
      "needs_background": "light"
     },
     "output_type": "display_data"
    }
   ],
   "source": [
    "frame.bl_show()"
   ]
  },
  {
   "cell_type": "code",
   "execution_count": 7,
   "metadata": {},
   "outputs": [
    {
     "data": {
      "text/plain": [
       "[<matplotlib.lines.Line2D at 0x7feccd2f3550>]"
      ]
     },
     "execution_count": 7,
     "metadata": {},
     "output_type": "execute_result"
    }
   ],
   "source": [
    "plt.plot(np.arange(10)**2)"
   ]
  },
  {
   "cell_type": "code",
   "execution_count": 7,
   "metadata": {},
   "outputs": [],
   "source": [
    "frame.save_pickle('test.pickle')"
   ]
  },
  {
   "cell_type": "code",
   "execution_count": 10,
   "metadata": {},
   "outputs": [
    {
     "data": {
      "text/plain": [
       "{}"
      ]
     },
     "execution_count": 10,
     "metadata": {},
     "output_type": "execute_result"
    },
    {
     "data": {
      "image/png": "[encoded data removed]",
      "text/plain": [
       "<Figure size 432x288 with 2 Axes>"
      ]
     },
     "metadata": {
      "needs_background": "light"
     },
     "output_type": "display_data"
    }
   ],
   "source": [
    "frame2 = stg.Frame.load_pickle('test.pickle')\n",
    "frame2.show()\n",
    "frame2.metadata"
   ]
  },
  {
   "cell_type": "code",
   "execution_count": 64,
   "metadata": {},
   "outputs": [
    {
     "data": {
      "text/plain": [
       "(0.004677534103393555, 0.007887601852416992)"
      ]
     },
     "execution_count": 64,
     "metadata": {},
     "output_type": "execute_result"
    }
   ],
   "source": [
    "time0 = time.time()\n",
    "\n",
    "fil = fil_to_frame(obs_fn, f_start=min_freq, f_stop=max_freq)\n",
    "time1 = time.time()\n",
    "\n",
    "frame = stg.Frame(fil=fil)\n",
    "time2 = time.time()\n",
    "\n",
    "time1 - time0, time2 - time1"
   ]
  },
  {
   "cell_type": "code",
   "execution_count": 50,
   "metadata": {},
   "outputs": [],
   "source": [
    "def split_fil_generator(fil_fn, f_window, f_shift=None):\n",
    "    fch1 = read_header(fil_fn)[b'fch1']\n",
    "    nchans = read_header(fil_fn)[b'nchans']\n",
    "    df = read_header(fil_fn)[b'foff']\n",
    "\n",
    "    if f_shift is None:\n",
    "        f_shift = f_window\n",
    "\n",
    "    # Note that df is negative!\n",
    "    f_start = fch1 + f_window * df\n",
    "    f_stop = fch1\n",
    "\n",
    "    # Iterates down frequencies, starting from highest\n",
    "    while f_start >= fch1 + nchans * df:\n",
    "        split_fil = Waterfall(fil_fn, f_start=f_start, f_stop=f_stop)\n",
    "        \n",
    "        # Fix some header values\n",
    "        split_fil.header[b'fch1'] = split_fil.file_header[b'fch1'] = f_stop\n",
    "        split_fil.header[b'nchans'] = split_fil.file_header[b'nchans'] = f_window\n",
    "        \n",
    "        yield stg.Frame(fil=split_fil)\n",
    "\n",
    "        f_start += f_shift * df\n",
    "        f_stop += f_shift * df"
   ]
  },
  {
   "cell_type": "code",
   "execution_count": 51,
   "metadata": {},
   "outputs": [
    {
     "name": "stdout",
     "output_type": "stream",
     "text": [
      "0.00017213821411132812\n"
     ]
    }
   ],
   "source": [
    "start = time.time()\n",
    "frame_itr = split_fil_generator(obs_fn, 1024)\n",
    "print(time.time() - start)"
   ]
  },
  {
   "cell_type": "code",
   "execution_count": 58,
   "metadata": {},
   "outputs": [
    {
     "data": {
      "text/plain": [
       "0.011955976486206055"
      ]
     },
     "execution_count": 58,
     "metadata": {},
     "output_type": "execute_result"
    }
   ],
   "source": [
    "time0 = time.time()\n",
    "\n",
    "frame = next(frame_itr)\n",
    "time1 = time.time()\n",
    "\n",
    "time1 - time0"
   ]
  },
  {
   "cell_type": "code",
   "execution_count": 67,
   "metadata": {},
   "outputs": [
    {
     "data": {
      "text/plain": [
       "(3151.4448151923716, 3151.447676215321)"
      ]
     },
     "execution_count": 67,
     "metadata": {},
     "output_type": "execute_result"
    }
   ],
   "source": [
    "minfreq, maxfreq"
   ]
  },
  {
   "cell_type": "code",
   "execution_count": 66,
   "metadata": {},
   "outputs": [
    {
     "data": {
      "text/plain": [
       "(2963.964842353016, 3151.464842353016)"
      ]
     },
     "execution_count": 66,
     "metadata": {},
     "output_type": "execute_result"
    }
   ],
   "source": [
    "fil = bl.Waterfall(obs_fn, f_start=minfreq, f_stop=maxfreq)\n",
    "stg.minfreq(fil), stg.maxfreq(fil)"
   ]
  },
  {
   "cell_type": "code",
   "execution_count": 87,
   "metadata": {},
   "outputs": [
    {
     "name": "stdout",
     "output_type": "stream",
     "text": [
      "blimpy.io.file_wrapper INFO     Skipping loading data ...\n",
      "0.004248857498168945\n"
     ]
    },
    {
     "data": {
      "text/plain": [
       "(3151.4448151923716, 3151.447676215321)"
      ]
     },
     "execution_count": 87,
     "metadata": {},
     "output_type": "execute_result"
    }
   ],
   "source": [
    "start = time.time()\n",
    "fil = bl.Waterfall(obs_fn, f_start=minfreq, f_stop=maxfreq,\n",
    "                   load_data=False)\n",
    "print(time.time() - start)\n",
    "fil.container.f_start, fil.container.f_stop"
   ]
  },
  {
   "cell_type": "code",
   "execution_count": 69,
   "metadata": {},
   "outputs": [
    {
     "data": {
      "text/plain": [
       "(2963.964842353016, 3151.464842353016)"
      ]
     },
     "execution_count": 69,
     "metadata": {},
     "output_type": "execute_result"
    }
   ],
   "source": [
    "fil._update_header\n",
    "stg.minfreq(fil), stg.maxfreq(fil)"
   ]
  },
  {
   "cell_type": "code",
   "execution_count": 70,
   "metadata": {},
   "outputs": [
    {
     "data": {
      "image/png": "[encoded data removed]",
      "text/plain": [
       "<Figure size 432x288 with 2 Axes>"
      ]
     },
     "metadata": {
      "needs_background": "light"
     },
     "output_type": "display_data"
    }
   ],
   "source": [
    "fil.plot_waterfall()"
   ]
  },
  {
   "cell_type": "code",
   "execution_count": 71,
   "metadata": {},
   "outputs": [
    {
     "name": "stdout",
     "output_type": "stream",
     "text": [
      "\n",
      "--- File Info ---\n",
      "  b'rawdatafile' : b'guppi_58331_12383_DIAG_SGR_B2_0014.0000.raw'\n",
      "  b'source_name' :                   b'DIAG_SGR_B2'\n",
      "   b'machine_id' :                               20\n",
      " b'telescope_id' :                                6\n",
      "      b'src_raj' :                    17h47m20.424s\n",
      "      b'src_dej' :                    -28d23m07.44s\n",
      "     b'az_start' :                              0.0\n",
      "     b'za_start' :                              0.0\n",
      "    b'data_type' :                                1\n",
      "         b'fch1' :                3151.464842353016\n",
      "         b'foff' :          -2.7939677238464355e-06\n",
      "       b'nchans' :                         67108864\n",
      "       b'nbeams' :                                1\n",
      "        b'ibeam' :                                1\n",
      "        b'nbits' :                               32\n",
      "   tstart (ISOT) :          2018-08-01T03:26:23.000\n",
      "    tstart (MJD) :                58331.14332175926\n",
      "        b'tsamp' :                     18.253611008\n",
      "         b'nifs' :                                1\n",
      "\n",
      "Num ints in file :                               32\n",
      "      File shape :                (32, 1, 67108864)\n",
      "--- Selection Info ---\n",
      "Data selection shape :                    (32, 1, 1024)\n",
      "Minimum freq (MHz) :               3151.4448151923716\n",
      "Maximum freq (MHz) :                3151.447676215321\n"
     ]
    }
   ],
   "source": [
    "fil.info()"
   ]
  },
  {
   "cell_type": "code",
   "execution_count": 75,
   "metadata": {},
   "outputs": [
    {
     "data": {
      "text/plain": [
       "<blimpy.io.file_wrapper.FilReader at 0x7f8926637cc0>"
      ]
     },
     "execution_count": 75,
     "metadata": {},
     "output_type": "execute_result"
    }
   ],
   "source": [
    "fil.container"
   ]
  },
  {
   "cell_type": "code",
   "execution_count": 95,
   "metadata": {},
   "outputs": [
    {
     "data": {
      "text/plain": [
       "(32, 1, 1024)"
      ]
     },
     "execution_count": 95,
     "metadata": {},
     "output_type": "execute_result"
    }
   ],
   "source": [
    "fil.container.selection_shape"
   ]
  },
  {
   "cell_type": "code",
   "execution_count": 77,
   "metadata": {},
   "outputs": [
    {
     "data": {
      "text/plain": [
       "['t_begin',\n",
       " 't_end',\n",
       " 'header_keywords_types',\n",
       " 'filename',\n",
       " 'load_data',\n",
       " 'header',\n",
       " 'file_size_bytes',\n",
       " 'idx_data',\n",
       " 'n_channels_in_file',\n",
       " 'n_beams_in_file',\n",
       " 'n_pols_in_file',\n",
       " '_n_bytes',\n",
       " '_d_type',\n",
       " 'n_ints_in_file',\n",
       " 'file_shape',\n",
       " 'f_end',\n",
       " 'f_begin',\n",
       " 't_start',\n",
       " 't_stop',\n",
       " 'f_start',\n",
       " 'f_stop',\n",
       " 'selection_shape',\n",
       " 'chan_start_idx',\n",
       " 'chan_stop_idx',\n",
       " 'freq_axis',\n",
       " 'time_axis',\n",
       " 'beam_axis',\n",
       " 'MAX_DATA_ARRAY_SIZE',\n",
       " 'large_file',\n",
       " 'data']"
      ]
     },
     "execution_count": 77,
     "metadata": {},
     "output_type": "execute_result"
    }
   ],
   "source": [
    "list(vars(fil.container).keys())"
   ]
  },
  {
   "cell_type": "code",
   "execution_count": 83,
   "metadata": {},
   "outputs": [
    {
     "data": {
      "text/plain": [
       "{'t_begin': 0,\n",
       " 't_end': 32,\n",
       " 'header_keywords_types': {b'telescope_id': b'<l',\n",
       "  b'machine_id': b'<l',\n",
       "  b'data_type': b'<l',\n",
       "  b'barycentric': b'<l',\n",
       "  b'pulsarcentric': b'<l',\n",
       "  b'nbits': b'<l',\n",
       "  b'nsamples': b'<l',\n",
       "  b'nchans': b'<l',\n",
       "  b'nifs': b'<l',\n",
       "  b'nbeams': b'<l',\n",
       "  b'ibeam': b'<l',\n",
       "  b'rawdatafile': b'str',\n",
       "  b'source_name': b'str',\n",
       "  b'az_start': b'<d',\n",
       "  b'za_start': b'<d',\n",
       "  b'tstart': b'<d',\n",
       "  b'tsamp': b'<d',\n",
       "  b'fch1': b'<d',\n",
       "  b'foff': b'<d',\n",
       "  b'refdm': b'<d',\n",
       "  b'period': b'<d',\n",
       "  b'src_raj': b'angle',\n",
       "  b'src_dej': b'angle'},\n",
       " 'filename': '/datax/scratch/bbrzycki/old/data/blc00_guppi_58331_12383_DIAG_SGR_B2_0014.gpuspec.0000.fil',\n",
       " 'load_data': True,\n",
       " 'header': {b'rawdatafile': b'guppi_58331_12383_DIAG_SGR_B2_0014.0000.raw',\n",
       "  b'source_name': b'DIAG_SGR_B2',\n",
       "  b'machine_id': 20,\n",
       "  b'telescope_id': 6,\n",
       "  b'src_raj': <Angle 17.78900667 hourangle>,\n",
       "  b'src_dej': <Angle -28.3854 deg>,\n",
       "  b'az_start': 0.0,\n",
       "  b'za_start': 0.0,\n",
       "  b'data_type': 1,\n",
       "  b'fch1': 3151.464842353016,\n",
       "  b'foff': -2.7939677238464355e-06,\n",
       "  b'nchans': 67108864,\n",
       "  b'nbeams': 1,\n",
       "  b'ibeam': 1,\n",
       "  b'nbits': 32,\n",
       "  b'tstart': 58331.14332175926,\n",
       "  b'tsamp': 18.253611008,\n",
       "  b'nifs': 1},\n",
       " 'file_size_bytes': 8589934980,\n",
       " 'idx_data': 388,\n",
       " 'n_channels_in_file': 67108864,\n",
       " 'n_beams_in_file': 1,\n",
       " 'n_pols_in_file': 1,\n",
       " '_n_bytes': 4,\n",
       " '_d_type': b'float32',\n",
       " 'n_ints_in_file': 32,\n",
       " 'file_shape': (32, 1, 67108864),\n",
       " 'f_end': 3151.464842353016,\n",
       " 'f_begin': 2963.964842353016,\n",
       " 't_start': 0,\n",
       " 't_stop': 32,\n",
       " 'f_start': 3151.4448151923716,\n",
       " 'f_stop': 3151.447676215321,\n",
       " 'selection_shape': (32, 1, 1024),\n",
       " 'chan_start_idx': 6144,\n",
       " 'chan_stop_idx': 7168,\n",
       " 'freq_axis': 2,\n",
       " 'time_axis': 0,\n",
       " 'beam_axis': 1,\n",
       " 'MAX_DATA_ARRAY_SIZE': 1073741824.0,\n",
       " 'large_file': True,\n",
       " 'data': array([[[68922000., 66315748., 72160140., ..., 76449250., 78172180.,\n",
       "          64976376.]],\n",
       " \n",
       "        [[66314684., 73765320., 66577520., ..., 77872790., 61810416.,\n",
       "          71881520.]],\n",
       " \n",
       "        [[72215304., 73550200., 66442790., ..., 69075224., 65212668.,\n",
       "          74613200.]],\n",
       " \n",
       "        ...,\n",
       " \n",
       "        [[70238050., 70614130., 62689196., ..., 61831040., 62295160.,\n",
       "          65972930.]],\n",
       " \n",
       "        [[68105610., 76245600., 65182892., ..., 69905350., 77957930.,\n",
       "          77206740.]],\n",
       " \n",
       "        [[67225740., 57738696., 60877644., ..., 66657750., 76261190.,\n",
       "          67963040.]]], dtype=float32)}"
      ]
     },
     "execution_count": 83,
     "metadata": {},
     "output_type": "execute_result"
    }
   ],
   "source": [
    "vars(fil.container)"
   ]
  },
  {
   "cell_type": "code",
   "execution_count": 84,
   "metadata": {},
   "outputs": [
    {
     "name": "stdout",
     "output_type": "stream",
     "text": [
      "blimpy.io.file_wrapper WARNING  Selection size of 8.00 GB, exceeding our size limit 1.00 GB. Instance created, header loaded, but data not loaded, please try another (t,v) selection.\n"
     ]
    },
    {
     "data": {
      "text/plain": [
       "{'t_begin': 0,\n",
       " 't_end': 32,\n",
       " 'header_keywords_types': {b'telescope_id': b'<l',\n",
       "  b'machine_id': b'<l',\n",
       "  b'data_type': b'<l',\n",
       "  b'barycentric': b'<l',\n",
       "  b'pulsarcentric': b'<l',\n",
       "  b'nbits': b'<l',\n",
       "  b'nsamples': b'<l',\n",
       "  b'nchans': b'<l',\n",
       "  b'nifs': b'<l',\n",
       "  b'nbeams': b'<l',\n",
       "  b'ibeam': b'<l',\n",
       "  b'rawdatafile': b'str',\n",
       "  b'source_name': b'str',\n",
       "  b'az_start': b'<d',\n",
       "  b'za_start': b'<d',\n",
       "  b'tstart': b'<d',\n",
       "  b'tsamp': b'<d',\n",
       "  b'fch1': b'<d',\n",
       "  b'foff': b'<d',\n",
       "  b'refdm': b'<d',\n",
       "  b'period': b'<d',\n",
       "  b'src_raj': b'angle',\n",
       "  b'src_dej': b'angle'},\n",
       " 'filename': '/datax/scratch/bbrzycki/old/data/blc00_guppi_58331_12383_DIAG_SGR_B2_0014.gpuspec.0000.fil',\n",
       " 'load_data': True,\n",
       " 'header': {b'rawdatafile': b'guppi_58331_12383_DIAG_SGR_B2_0014.0000.raw',\n",
       "  b'source_name': b'DIAG_SGR_B2',\n",
       "  b'machine_id': 20,\n",
       "  b'telescope_id': 6,\n",
       "  b'src_raj': <Angle 17.78900667 hourangle>,\n",
       "  b'src_dej': <Angle -28.3854 deg>,\n",
       "  b'az_start': 0.0,\n",
       "  b'za_start': 0.0,\n",
       "  b'data_type': 1,\n",
       "  b'fch1': 3151.464842353016,\n",
       "  b'foff': -2.7939677238464355e-06,\n",
       "  b'nchans': 67108864,\n",
       "  b'nbeams': 1,\n",
       "  b'ibeam': 1,\n",
       "  b'nbits': 32,\n",
       "  b'tstart': 58331.14332175926,\n",
       "  b'tsamp': 18.253611008,\n",
       "  b'nifs': 1},\n",
       " 'file_size_bytes': 8589934980,\n",
       " 'idx_data': 388,\n",
       " 'n_channels_in_file': 67108864,\n",
       " 'n_beams_in_file': 1,\n",
       " 'n_pols_in_file': 1,\n",
       " '_n_bytes': 4,\n",
       " '_d_type': b'float32',\n",
       " 'n_ints_in_file': 32,\n",
       " 'file_shape': (32, 1, 67108864),\n",
       " 'f_end': 3151.464842353016,\n",
       " 'f_begin': 2963.964842353016,\n",
       " 't_start': 0,\n",
       " 't_stop': 32,\n",
       " 'f_start': 2963.964842353016,\n",
       " 'f_stop': 3151.464842353016,\n",
       " 'selection_shape': (32, 1, 67108864),\n",
       " 'chan_start_idx': 0,\n",
       " 'chan_stop_idx': 67108864,\n",
       " 'freq_axis': 2,\n",
       " 'time_axis': 0,\n",
       " 'beam_axis': 1,\n",
       " 'MAX_DATA_ARRAY_SIZE': 1073741824.0,\n",
       " 'large_file': True,\n",
       " 'data': array([0.], dtype=float32)}"
      ]
     },
     "execution_count": 84,
     "metadata": {},
     "output_type": "execute_result"
    }
   ],
   "source": [
    "fil = bl.Waterfall(obs_fn)\n",
    "vars(fil.container)"
   ]
  },
  {
   "cell_type": "code",
   "execution_count": 93,
   "metadata": {},
   "outputs": [
    {
     "data": {
      "text/plain": [
       "(32, 1024)"
      ]
     },
     "execution_count": 93,
     "metadata": {},
     "output_type": "execute_result"
    }
   ],
   "source": [
    "fil.data[:, 0, :].shape"
   ]
  },
  {
   "cell_type": "code",
   "execution_count": 94,
   "metadata": {},
   "outputs": [
    {
     "name": "stdout",
     "output_type": "stream",
     "text": [
      "850.0\n"
     ]
    },
    {
     "data": {
      "text/plain": [
       "(850.0, 998.5)"
      ]
     },
     "execution_count": 94,
     "metadata": {},
     "output_type": "execute_result"
    }
   ],
   "source": [
    "a = 1000 - 100 * 1.5\n",
    "print(a)\n",
    "b = np.arange(a, a + 100 * 1.5, 1.5)\n",
    "b[0], b[-1]"
   ]
  },
  {
   "cell_type": "code",
   "execution_count": null,
   "metadata": {},
   "outputs": [],
   "source": []
  }
 ],
 "metadata": {
  "kernelspec": {
   "display_name": "Python (bl)",
   "language": "python",
   "name": "bl"
  },
  "language_info": {
   "codemirror_mode": {
    "name": "ipython",
    "version": 3
   },
   "file_extension": ".py",
   "mimetype": "text/x-python",
   "name": "python",
   "nbconvert_exporter": "python",
   "pygments_lexer": "ipython3",
   "version": "3.6.10"
  }
 },
 "nbformat": 4,
 "nbformat_minor": 4
}
