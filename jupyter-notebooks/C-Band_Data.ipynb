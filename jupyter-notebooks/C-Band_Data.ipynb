{
 "cells": [
  {
   "cell_type": "code",
   "execution_count": 1,
   "metadata": {},
   "outputs": [],
   "source": [
    "import numpy as np\n",
    "from blimpy import read_header, Waterfall, Filterbank\n",
    "\n",
    "%matplotlib inline\n",
    "import matplotlib.pyplot as plt\n",
    "\n",
    "import sys, os, glob\n",
    "sys.path.append(\"../\")\n",
    "import setigen as stg"
   ]
  },
  {
   "cell_type": "code",
   "execution_count": 2,
   "metadata": {},
   "outputs": [],
   "source": [
    "fn = '/mnt_bls0/datax3/collate/AGBT17B_999_70/spliced_blc00010203040506o7o0111213141516o7o0212223242526o7o031323334353637_guppi_58090_40453_HIP43223_0021.gpuspec.0000.fil'\n",
    "# /datax/users/bryanb/bl-interns/bbrzycki/jupyter-notebooks/data_dump/1024.fil\n",
    "# /datax/users/eenriquez/voyager_test/blc07_guppi_57650_67573_Voyager1_0002.gpuspec.0000.fil"
   ]
  },
  {
   "cell_type": "code",
   "execution_count": 3,
   "metadata": {},
   "outputs": [
    {
     "name": "stdout",
     "output_type": "stream",
     "text": [
      "blimpy.file_wrapper WARNING  Selection size of 104.00 GB, exceeding our size limit 1.00 GB. Instance created, header loaded, but data not loaded, please try another (t,v) selection.\n"
     ]
    }
   ],
   "source": [
    "fil = Waterfall(fn)"
   ]
  },
  {
   "cell_type": "code",
   "execution_count": 4,
   "metadata": {},
   "outputs": [
    {
     "data": {
      "text/plain": [
       "{'az_start': 0.0,\n",
       " 'data_type': 1,\n",
       " 'fch1': 8438.964842353016,\n",
       " 'foff': -2.7939677238464355e-06,\n",
       " 'machine_id': 20,\n",
       " 'nbits': 32,\n",
       " 'nchans': 1744830464,\n",
       " 'nifs': 1,\n",
       " 'source_name': 'HIP43223',\n",
       " 'src_dej': <Angle 18.7477 deg>,\n",
       " 'src_raj': <Angle 8.80492 hourangle>,\n",
       " 'telescope_id': 6,\n",
       " 'tsamp': 18.253611008,\n",
       " 'tstart': 58090.468206018515,\n",
       " 'za_start': 0.0}"
      ]
     },
     "execution_count": 4,
     "metadata": {},
     "output_type": "execute_result"
    }
   ],
   "source": [
    "fil.header"
   ]
  },
  {
   "cell_type": "code",
   "execution_count": 5,
   "metadata": {},
   "outputs": [],
   "source": [
    "import sys, os\n",
    "sys.path.append('/datax/users/bryanb/bl-interns/bbrzycki')\n",
    "sys.path.insert(1,'/datax/users/bryanb/turbo_seti')"
   ]
  },
  {
   "cell_type": "code",
   "execution_count": 6,
   "metadata": {},
   "outputs": [],
   "source": [
    "import ml_search"
   ]
  },
  {
   "cell_type": "code",
   "execution_count": 7,
   "metadata": {},
   "outputs": [
    {
     "data": {
      "text/plain": [
       "<function ml_search.filterbank_split.split_filterbank>"
      ]
     },
     "execution_count": 7,
     "metadata": {},
     "output_type": "execute_result"
    }
   ],
   "source": [
    "ml_search.split_filterbank"
   ]
  },
  {
   "cell_type": "code",
   "execution_count": 6,
   "metadata": {},
   "outputs": [],
   "source": [
    "f_sample_num = 2**22"
   ]
  },
  {
   "cell_type": "code",
   "execution_count": 17,
   "metadata": {},
   "outputs": [
    {
     "name": "stdout",
     "output_type": "stream",
     "text": [
      "blimpy.file_wrapper WARNING  Given f_stop < f_start, assuming reversed values.\n",
      "blimpy.waterfall INFO     Conversion time: 0.08sec\n"
     ]
    }
   ],
   "source": [
    "\n",
    "\n",
    "fch1 = read_header(fn)[b'fch1']\n",
    "nchans = read_header(fn)[b'nchans']\n",
    "ch_bandwidth = read_header(fn)[b'foff']\n",
    "f_start = fch1\n",
    "f_stop = fch1 + f_sample_num * ch_bandwidth\n",
    "\n",
    "frame = Waterfall(fn, f_start=f_start, f_stop=f_stop)\n",
    "frame.write_to_fil('data_dump/%s.fil' % f_sample_num)"
   ]
  },
  {
   "cell_type": "code",
   "execution_count": 13,
   "metadata": {},
   "outputs": [
    {
     "name": "stdout",
     "output_type": "stream",
     "text": [
      "(8438.964842353016, 3563.964842353016)\n"
     ]
    }
   ],
   "source": [
    "fch1 = read_header(fn)[b'fch1']\n",
    "nchans = read_header(fn)[b'nchans']\n",
    "ch_bandwidth = read_header(fn)[b'foff']\n",
    "f_start = fch1\n",
    "f_stop = fch1 + nchans * ch_bandwidth\n",
    "print(f_start, f_stop)"
   ]
  },
  {
   "cell_type": "code",
   "execution_count": 7,
   "metadata": {},
   "outputs": [],
   "source": [
    "fn_split = 'data_dump/%s.fil' % f_sample_num"
   ]
  },
  {
   "cell_type": "code",
   "execution_count": 8,
   "metadata": {},
   "outputs": [],
   "source": [
    "fil_split = Waterfall(fn_split)"
   ]
  },
  {
   "cell_type": "code",
   "execution_count": 9,
   "metadata": {},
   "outputs": [
    {
     "data": {
      "text/plain": [
       "{'az_start': 0.0,\n",
       " 'data_type': 1,\n",
       " 'fch1': 8438.964842353016,\n",
       " 'foff': -2.7939677238464355e-06,\n",
       " 'machine_id': 20,\n",
       " 'nbits': 32,\n",
       " 'nchans': 4194304,\n",
       " 'nifs': 1,\n",
       " 'source_name': 'HIP43223',\n",
       " 'src_dej': <Angle 18.7477 deg>,\n",
       " 'src_raj': <Angle 8.80492 hourangle>,\n",
       " 'telescope_id': 6,\n",
       " 'tsamp': 18.253611008,\n",
       " 'tstart': 58090.468206018515,\n",
       " 'za_start': 0.0}"
      ]
     },
     "execution_count": 9,
     "metadata": {},
     "output_type": "execute_result"
    }
   ],
   "source": [
    "fil_split.header"
   ]
  },
  {
   "cell_type": "code",
   "execution_count": 10,
   "metadata": {},
   "outputs": [
    {
     "data": {
      "image/png": "[encoded data removed]",
      "text/plain": [
       "<matplotlib.figure.Figure at 0x7f3d98de63d0>"
      ]
     },
     "metadata": {},
     "output_type": "display_data"
    }
   ],
   "source": [
    "%matplotlib inline\n",
    "import matplotlib.pyplot as plt\n",
    "plt.figure(figsize=(10,6))\n",
    "fil_split.plot_waterfall()"
   ]
  },
  {
   "cell_type": "code",
   "execution_count": 11,
   "metadata": {},
   "outputs": [
    {
     "name": "stdout",
     "output_type": "stream",
     "text": [
      "extracting integration 0...\n"
     ]
    },
    {
     "data": {
      "image/png": "[encoded data removed]",
      "text/plain": [
       "<matplotlib.figure.Figure at 0x7f3d88ccc190>"
      ]
     },
     "metadata": {},
     "output_type": "display_data"
    }
   ],
   "source": [
    "fil_split.plot_spectrum()"
   ]
  },
  {
   "cell_type": "code",
   "execution_count": 23,
   "metadata": {},
   "outputs": [],
   "source": [
    "import turbo_seti"
   ]
  },
  {
   "cell_type": "code",
   "execution_count": 24,
   "metadata": {},
   "outputs": [],
   "source": [
    "from turbo_seti.findoppler.findopp import FinDoppler"
   ]
  },
  {
   "cell_type": "code",
   "execution_count": 25,
   "metadata": {},
   "outputs": [
    {
     "name": "stdout",
     "output_type": "stream",
     "text": [
      "turbo_seti.findoppler.data_handdler INFO     File .fil detected. Attempting to create .h5 file in current directory...\n",
      "blimpy.waterfall INFO     Conversion time: 9.41sec\n",
      "blimpy.file_wrapper INFO     Skipping loading data ...\n",
      "blimpy.file_wrapper INFO     Skipping loading data ...\n",
      "turbo_seti.findoppler.findopp INFO     {u'telescope_id': 6, u'nbits': 32, u'fch1': 8438.964842353016, u'data_type': 1, u'nchans': 2097153, u'tsamp': 18.253611008, u'foff': -2.7939677238464355e-06, u'DIMENSION_LABELS': array(['frequency', 'feed_id', 'time'], dtype=object), u'src_raj': <Angle 8.80492 hourangle>, u'src_dej': <Angle 18.7477 deg>, u'tstart': 58090.468206018515, u'az_start': 0.0, u'source_name': 'HIP43223', u'za_start': 0.0, u'machine_id': 20, u'nifs': 1}\n",
      "turbo_seti.findoppler.findopp INFO     A new FinDoppler instance created!\n",
      "turbo_seti.findoppler.findopp INFO     Start ET search for data_dump/2097153.fil\n",
      "turbo_seti.findoppler.findopp INFO     Start searching for coarse channel: 1\n",
      "turbo_seti.findoppler.data_handdler WARNING  The file/selection is not an integer number of coarse channels. This could have unexpected consequences. Let op!\n",
      "turbo_seti.findoppler.findopp INFO     Doppler correcting reverse...\n",
      "turbo_seti.findoppler.findopp INFO     Doppler correcting reverse...\n",
      "turbo_seti.findoppler.findopp INFO     Doppler correcting reverse...\n",
      "turbo_seti.findoppler.findopp INFO     Doppler correcting reverse...\n",
      "turbo_seti.findoppler.findopp INFO     Doppler correcting reverse...\n",
      "turbo_seti.findoppler.findopp INFO     Doppler correcting reverse...\n",
      "turbo_seti.findoppler.findopp INFO     Doppler correcting reverse...\n",
      "turbo_seti.findoppler.findopp INFO     Doppler correcting reverse...\n",
      "turbo_seti.findoppler.findopp INFO     Doppler correcting reverse...\n",
      "turbo_seti.findoppler.findopp INFO     Doppler correcting reverse...\n",
      "turbo_seti.findoppler.findopp INFO     Doppler correcting reverse...\n",
      "turbo_seti.findoppler.findopp INFO     Doppler correcting reverse...\n",
      "turbo_seti.findoppler.findopp INFO     Doppler correcting reverse...\n",
      "turbo_seti.findoppler.findopp INFO     Doppler correcting reverse...\n",
      "turbo_seti.findoppler.findopp INFO     Doppler correcting reverse...\n",
      "turbo_seti.findoppler.findopp INFO     Doppler correcting reverse...\n",
      "turbo_seti.findoppler.findopp INFO     Doppler correcting reverse...\n",
      "turbo_seti.findoppler.findopp INFO     Doppler correcting reverse...\n",
      "turbo_seti.findoppler.findopp INFO     Doppler correcting reverse...\n",
      "turbo_seti.findoppler.findopp INFO     Doppler correcting reverse...\n",
      "turbo_seti.findoppler.findopp INFO     Doppler correcting reverse...\n",
      "turbo_seti.findoppler.findopp INFO     Doppler correcting reverse...\n",
      "turbo_seti.findoppler.findopp INFO     Doppler correcting reverse...\n",
      "turbo_seti.findoppler.findopp INFO     Doppler correcting reverse...\n",
      "turbo_seti.findoppler.findopp INFO     Doppler correcting reverse...\n",
      "turbo_seti.findoppler.findopp INFO     Doppler correcting reverse...\n",
      "turbo_seti.findoppler.findopp INFO     Doppler correcting reverse...\n"
     ]
    },
    {
     "ename": "KeyboardInterrupt",
     "evalue": "",
     "output_type": "error",
     "traceback": [
      "\u001b[0;31m---------------------------------------------------------------------------\u001b[0m",
      "\u001b[0;31mKeyboardInterrupt\u001b[0m                         Traceback (most recent call last)",
      "\u001b[0;32m<ipython-input-25-9a92da04d3e4>\u001b[0m in \u001b[0;36m<module>\u001b[0;34m()\u001b[0m\n\u001b[1;32m     14\u001b[0m \u001b[0;34m\u001b[0m\u001b[0m\n\u001b[1;32m     15\u001b[0m \u001b[0mfind_seti_event\u001b[0m \u001b[0;34m=\u001b[0m \u001b[0mFinDoppler\u001b[0m\u001b[0;34m(\u001b[0m\u001b[0mfn_split\u001b[0m\u001b[0;34m,\u001b[0m \u001b[0mmax_drift\u001b[0m \u001b[0;34m=\u001b[0m \u001b[0;36m10.0\u001b[0m\u001b[0;34m,\u001b[0m \u001b[0msnr\u001b[0m \u001b[0;34m=\u001b[0m \u001b[0;36m25.0\u001b[0m\u001b[0;34m,\u001b[0m \u001b[0mout_dir\u001b[0m \u001b[0;34m=\u001b[0m \u001b[0;34m'data_dump/'\u001b[0m\u001b[0;34m,\u001b[0m \u001b[0mobs_info\u001b[0m\u001b[0;34m=\u001b[0m\u001b[0mobs_info\u001b[0m\u001b[0;34m)\u001b[0m\u001b[0;34m\u001b[0m\u001b[0m\n\u001b[0;32m---> 16\u001b[0;31m \u001b[0mfind_seti_event\u001b[0m\u001b[0;34m.\u001b[0m\u001b[0msearch\u001b[0m\u001b[0;34m(\u001b[0m\u001b[0;34m)\u001b[0m\u001b[0;34m\u001b[0m\u001b[0m\n\u001b[0m",
      "\u001b[0;32m/datax/users/bryanb/turbo_seti/turbo_seti/findoppler/findopp.pyc\u001b[0m in \u001b[0;36msearch\u001b[0;34m(self)\u001b[0m\n\u001b[1;32m     76\u001b[0m \u001b[0;34m\u001b[0m\u001b[0m\n\u001b[1;32m     77\u001b[0m         \u001b[0;32mfor\u001b[0m \u001b[0mii\u001b[0m\u001b[0;34m,\u001b[0m\u001b[0mtarget_data_obj\u001b[0m \u001b[0;32min\u001b[0m \u001b[0menumerate\u001b[0m\u001b[0;34m(\u001b[0m\u001b[0mself\u001b[0m\u001b[0;34m.\u001b[0m\u001b[0mdata_handle\u001b[0m\u001b[0;34m.\u001b[0m\u001b[0mdata_list\u001b[0m\u001b[0;34m)\u001b[0m\u001b[0;34m:\u001b[0m\u001b[0;34m\u001b[0m\u001b[0m\n\u001b[0;32m---> 78\u001b[0;31m             \u001b[0mself\u001b[0m\u001b[0;34m.\u001b[0m\u001b[0msearch_data\u001b[0m\u001b[0;34m(\u001b[0m\u001b[0mtarget_data_obj\u001b[0m\u001b[0;34m)\u001b[0m\u001b[0;34m\u001b[0m\u001b[0m\n\u001b[0m\u001b[1;32m     79\u001b[0m \u001b[0;31m##EE-benshmark            cProfile.runctx('self.search_data(target_data_obj)',globals(),locals(),filename='profile_M%2.1f_S%2.1f_t%i'%(self.max_drift,self.snr,int(os.times()[-1])))\u001b[0m\u001b[0;34m\u001b[0m\u001b[0;34m\u001b[0m\u001b[0m\n\u001b[1;32m     80\u001b[0m \u001b[0;34m\u001b[0m\u001b[0m\n",
      "\u001b[0;32m/datax/users/bryanb/turbo_seti/turbo_seti/findoppler/findopp.pyc\u001b[0m in \u001b[0;36msearch_data\u001b[0;34m(self, data_obj)\u001b[0m\n\u001b[1;32m    214\u001b[0m \u001b[0;34m\u001b[0m\u001b[0m\n\u001b[1;32m    215\u001b[0m \u001b[0;31m##EE old wrong use of reverse            n_candi, max_val = candsearch(spectrum, specstart, specend, self.snr, drift_rate, data_obj.header, fftlen, tdwidth, channel, max_val, 1)\u001b[0m\u001b[0;34m\u001b[0m\u001b[0;34m\u001b[0m\u001b[0m\n\u001b[0;32m--> 216\u001b[0;31m                     \u001b[0mn_candi\u001b[0m\u001b[0;34m,\u001b[0m \u001b[0mmax_val\u001b[0m \u001b[0;34m=\u001b[0m \u001b[0mcandsearch\u001b[0m\u001b[0;34m(\u001b[0m\u001b[0mspectrum\u001b[0m\u001b[0;34m,\u001b[0m \u001b[0mspecstart\u001b[0m\u001b[0;34m,\u001b[0m \u001b[0mspecend\u001b[0m\u001b[0;34m,\u001b[0m \u001b[0mself\u001b[0m\u001b[0;34m.\u001b[0m\u001b[0msnr\u001b[0m\u001b[0;34m,\u001b[0m \u001b[0mdrift_rate\u001b[0m\u001b[0;34m,\u001b[0m \u001b[0mdata_obj\u001b[0m\u001b[0;34m.\u001b[0m\u001b[0mheader\u001b[0m\u001b[0;34m,\u001b[0m \u001b[0mfftlen\u001b[0m\u001b[0;34m,\u001b[0m \u001b[0mtdwidth\u001b[0m\u001b[0;34m,\u001b[0m \u001b[0mmax_val\u001b[0m\u001b[0;34m,\u001b[0m \u001b[0;36m0\u001b[0m\u001b[0;34m)\u001b[0m\u001b[0;34m\u001b[0m\u001b[0m\n\u001b[0m\u001b[1;32m    217\u001b[0m                     \u001b[0minfo_str\u001b[0m \u001b[0;34m=\u001b[0m \u001b[0;34m\"Found %d candidates at drift rate %15.15f\\n\"\u001b[0m\u001b[0;34m%\u001b[0m\u001b[0;34m(\u001b[0m\u001b[0mn_candi\u001b[0m\u001b[0;34m,\u001b[0m \u001b[0mdrift_rate\u001b[0m\u001b[0;34m)\u001b[0m\u001b[0;34m\u001b[0m\u001b[0m\n\u001b[1;32m    218\u001b[0m                     \u001b[0mmax_val\u001b[0m\u001b[0;34m.\u001b[0m\u001b[0mtotal_n_candi\u001b[0m \u001b[0;34m+=\u001b[0m \u001b[0mn_candi\u001b[0m\u001b[0;34m\u001b[0m\u001b[0m\n",
      "\u001b[0;32m/datax/users/bryanb/turbo_seti/turbo_seti/findoppler/findopp.pyc\u001b[0m in \u001b[0;36mcandsearch\u001b[0;34m(spectrum, specstart, specend, candthresh, drift_rate, header, fftlen, tdwidth, max_val, reverse)\u001b[0m\n\u001b[1;32m    417\u001b[0m         \u001b[0minfo_str\u001b[0m \u001b[0;34m+=\u001b[0m \u001b[0;34m'Spectrum index: %d, Drift rate: %f\\t'\u001b[0m\u001b[0;34m%\u001b[0m\u001b[0;34m(\u001b[0m\u001b[0mi\u001b[0m\u001b[0;34m,\u001b[0m \u001b[0mdrift_rate\u001b[0m\u001b[0;34m)\u001b[0m\u001b[0;34m\u001b[0m\u001b[0m\n\u001b[1;32m    418\u001b[0m         \u001b[0minfo_str\u001b[0m \u001b[0;34m+=\u001b[0m \u001b[0;34m'Uncorrected frequency: %f\\t'\u001b[0m\u001b[0;34m%\u001b[0m\u001b[0mchan_freq\u001b[0m\u001b[0;34m(\u001b[0m\u001b[0mheader\u001b[0m\u001b[0;34m,\u001b[0m  \u001b[0mk\u001b[0m\u001b[0;34m,\u001b[0m \u001b[0mtdwidth\u001b[0m\u001b[0;34m,\u001b[0m \u001b[0;36m0\u001b[0m\u001b[0;34m)\u001b[0m\u001b[0;34m\u001b[0m\u001b[0m\n\u001b[0;32m--> 419\u001b[0;31m         \u001b[0minfo_str\u001b[0m \u001b[0;34m+=\u001b[0m \u001b[0;34m'Corrected frequency: %f'\u001b[0m\u001b[0;34m%\u001b[0m\u001b[0mchan_freq\u001b[0m\u001b[0;34m(\u001b[0m\u001b[0mheader\u001b[0m\u001b[0;34m,\u001b[0m \u001b[0mk\u001b[0m\u001b[0;34m,\u001b[0m \u001b[0mtdwidth\u001b[0m\u001b[0;34m,\u001b[0m \u001b[0;36m1\u001b[0m\u001b[0;34m)\u001b[0m\u001b[0;34m\u001b[0m\u001b[0m\n\u001b[0m\u001b[1;32m    420\u001b[0m         \u001b[0mlogger\u001b[0m\u001b[0;34m.\u001b[0m\u001b[0mdebug\u001b[0m\u001b[0;34m(\u001b[0m\u001b[0minfo_str\u001b[0m\u001b[0;34m)\u001b[0m\u001b[0;34m\u001b[0m\u001b[0m\n\u001b[1;32m    421\u001b[0m         \u001b[0mj\u001b[0m \u001b[0;34m+=\u001b[0m \u001b[0;36m1\u001b[0m\u001b[0;34m\u001b[0m\u001b[0m\n",
      "\u001b[0;32m/datax/users/bryanb/turbo_seti/turbo_seti/findoppler/helper_functions.pyc\u001b[0m in \u001b[0;36mchan_freq\u001b[0;34m(header, fine_channel, tdwidth, ref_frame)\u001b[0m\n\u001b[1;32m      7\u001b[0m     \u001b[0mfftlen\u001b[0m \u001b[0;34m=\u001b[0m \u001b[0mheader\u001b[0m\u001b[0;34m[\u001b[0m\u001b[0;34m'NAXIS1'\u001b[0m\u001b[0;34m]\u001b[0m\u001b[0;34m\u001b[0m\u001b[0m\n\u001b[1;32m      8\u001b[0m     \u001b[0mchan_index\u001b[0m \u001b[0;34m=\u001b[0m \u001b[0mfine_channel\u001b[0m \u001b[0;34m-\u001b[0m \u001b[0;34m(\u001b[0m\u001b[0mtdwidth\u001b[0m\u001b[0;34m-\u001b[0m\u001b[0mfftlen\u001b[0m\u001b[0;34m)\u001b[0m\u001b[0;34m/\u001b[0m\u001b[0;36m2\u001b[0m\u001b[0;34m\u001b[0m\u001b[0m\n\u001b[0;32m----> 9\u001b[0;31m     \u001b[0mchanfreq\u001b[0m \u001b[0;34m=\u001b[0m \u001b[0mheader\u001b[0m\u001b[0;34m[\u001b[0m\u001b[0;34m'FCNTR'\u001b[0m\u001b[0;34m]\u001b[0m \u001b[0;34m+\u001b[0m \u001b[0;34m(\u001b[0m\u001b[0mchan_index\u001b[0m \u001b[0;34m-\u001b[0m \u001b[0mfftlen\u001b[0m\u001b[0;34m/\u001b[0m\u001b[0;36m2\u001b[0m\u001b[0;34m)\u001b[0m\u001b[0;34m*\u001b[0m\u001b[0mheader\u001b[0m\u001b[0;34m[\u001b[0m\u001b[0;34m'DELTAF'\u001b[0m\u001b[0;34m]\u001b[0m\u001b[0;34m\u001b[0m\u001b[0m\n\u001b[0m\u001b[1;32m     10\u001b[0m     \u001b[0;31m#/* apply doppler correction */\u001b[0m\u001b[0;34m\u001b[0m\u001b[0;34m\u001b[0m\u001b[0m\n\u001b[1;32m     11\u001b[0m     \u001b[0;32mif\u001b[0m \u001b[0mref_frame\u001b[0m \u001b[0;34m==\u001b[0m \u001b[0;36m1\u001b[0m\u001b[0;34m:\u001b[0m\u001b[0;34m\u001b[0m\u001b[0m\n",
      "\u001b[0;31mKeyboardInterrupt\u001b[0m: "
     ]
    }
   ],
   "source": [
    "# Stuff needed for LOFAR version. will remove\n",
    "obs_info = {}\n",
    "obs_info['pulsar'] = 0  # Bool if pulsar detection.\n",
    "obs_info['pulsar_found'] = 0  # Bool if pulsar detection.\n",
    "obs_info['pulsar_dm'] = 0.0  # Pulsar expected DM.\n",
    "obs_info['pulsar_snr'] = 0.0 # SNR\n",
    "obs_info['pulsar_stats'] = np.zeros(6)\n",
    "obs_info['RFI_level'] = 0.0\n",
    "obs_info['Mean_SEFD'] = 0.0\n",
    "obs_info['psrflux_Sens'] = 0.0\n",
    "obs_info['SEFDs_val'] = [0.0]\n",
    "obs_info['SEFDs_freq'] = [0.0]\n",
    "obs_info['SEFDs_freq_up'] = [0.0]\n",
    "\n",
    "find_seti_event = FinDoppler(fn_split, max_drift = 10.0, snr = 25.0, out_dir = 'data_dump/', obs_info=obs_info)\n",
    "find_seti_event.search()"
   ]
  },
  {
   "cell_type": "code",
   "execution_count": 35,
   "metadata": {},
   "outputs": [
    {
     "data": {
      "text/plain": [
       "'data_dump/4194304.fil'"
      ]
     },
     "execution_count": 35,
     "metadata": {},
     "output_type": "execute_result"
    }
   ],
   "source": [
    "fn_split"
   ]
  },
  {
   "cell_type": "code",
   "execution_count": 9,
   "metadata": {},
   "outputs": [
    {
     "name": "stdout",
     "output_type": "stream",
     "text": [
      "blimpy.file_wrapper WARNING  Selection size of 104.00 GB, exceeding our size limit 1.00 GB. Instance created, header loaded, but data not loaded, please try another (t,v) selection.\n",
      "blimpy.file_wrapper WARNING  Given f_stop < f_start, assuming reversed values.\n",
      "1046\n",
      "blimpy.file_wrapper WARNING  Given f_stop < f_start, assuming reversed values.\n"
     ]
    }
   ],
   "source": [
    "\n",
    "ts = stg.get_ts(fn)\n",
    "tsamp = ts[1] - ts[0]\n",
    "fs = stg.get_fs(fn)\n",
    "df = fs[1] - fs[0]\n",
    "\n",
    "max_drift_rate = 10 * 1e-6\n",
    "\n",
    "f_range = max_drift_rate * (len(ts) * tsamp) / df\n",
    "next_index = np.abs(int(np.floor(f_range)))\n",
    "print(next_index)\n",
    "\n",
    "fil = Waterfall(fn, f_start = fs[0], f_stop = fs[next_index])"
   ]
  },
  {
   "cell_type": "code",
   "execution_count": 13,
   "metadata": {},
   "outputs": [
    {
     "name": "stdout",
     "output_type": "stream",
     "text": [
      "(16, 1046)\n",
      "1024\n"
     ]
    },
    {
     "data": {
      "image/png": "[encoded data removed]",
      "text/plain": [
       "<matplotlib.figure.Figure at 0x7f9b567eff90>"
      ]
     },
     "metadata": {},
     "output_type": "display_data"
    }
   ],
   "source": [
    "fil.plot_waterfall()\n",
    "print(stg.get_data(fil).shape)\n",
    "t, f = stg.get_data(fil).shape\n",
    "length = f\n",
    "while len(fs) % length != 0:\n",
    "    length -= 1\n",
    "print(length)"
   ]
  },
  {
   "cell_type": "code",
   "execution_count": 31,
   "metadata": {},
   "outputs": [
    {
     "name": "stdout",
     "output_type": "stream",
     "text": [
      "blimpy.file_wrapper WARNING  Given f_stop < f_start, assuming reversed values.\n"
     ]
    },
    {
     "data": {
      "text/plain": [
       "(16,)"
      ]
     },
     "execution_count": 31,
     "metadata": {},
     "output_type": "execute_result"
    }
   ],
   "source": [
    "fch1 = read_header(fn)[b'fch1']\n",
    "foff = read_header(fn)[b'foff']\n",
    "\n",
    "fil0 = Waterfall(fn, f_start = fch1, f_stop = fch1 + foff)\n",
    "fil0.header\n",
    "np.squeeze(fil0.data).shape"
   ]
  },
  {
   "cell_type": "code",
   "execution_count": 17,
   "metadata": {},
   "outputs": [
    {
     "data": {
      "text/plain": [
       "True"
      ]
     },
     "execution_count": 17,
     "metadata": {},
     "output_type": "execute_result"
    }
   ],
   "source": [
    "type('hi') == str"
   ]
  },
  {
   "cell_type": "code",
   "execution_count": 20,
   "metadata": {},
   "outputs": [
    {
     "data": {
      "text/plain": [
       "True"
      ]
     },
     "execution_count": 20,
     "metadata": {},
     "output_type": "execute_result"
    }
   ],
   "source": [
    "type(fil0) == Waterfall"
   ]
  },
  {
   "cell_type": "code",
   "execution_count": 25,
   "metadata": {},
   "outputs": [
    {
     "data": {
      "text/plain": [
       "1744830464"
      ]
     },
     "execution_count": 25,
     "metadata": {},
     "output_type": "execute_result"
    }
   ],
   "source": [
    "fil.header['nchans']"
   ]
  },
  {
   "cell_type": "code",
   "execution_count": null,
   "metadata": {},
   "outputs": [],
   "source": []
  }
 ],
 "metadata": {
  "kernelspec": {
   "display_name": "Python 2",
   "language": "python",
   "name": "python2"
  },
  "language_info": {
   "codemirror_mode": {
    "name": "ipython",
    "version": 2
   },
   "file_extension": ".py",
   "mimetype": "text/x-python",
   "name": "python",
   "nbconvert_exporter": "python",
   "pygments_lexer": "ipython2",
   "version": "2.7.12"
  }
 },
 "nbformat": 4,
 "nbformat_minor": 2
}
