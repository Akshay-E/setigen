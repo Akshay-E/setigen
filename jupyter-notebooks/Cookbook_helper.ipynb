{
 "cells": [
  {
   "cell_type": "code",
   "execution_count": 1,
   "metadata": {},
   "outputs": [
    {
     "name": "stderr",
     "output_type": "stream",
     "text": [
      "/Users/bbrzycki/anaconda3/lib/python3.6/site-packages/h5py/__init__.py:36: FutureWarning: Conversion of the second argument of issubdtype from `float` to `np.floating` is deprecated. In future, it will be treated as `np.float64 == np.dtype(float).type`.\n",
      "  from ._conv import register_converters as _register_converters\n"
     ]
    }
   ],
   "source": [
    "import numpy as np\n",
    "from blimpy import read_header, Waterfall, Filterbank\n",
    "\n",
    "%matplotlib inline\n",
    "import matplotlib.pyplot as plt\n",
    "\n",
    "import sys, os, glob\n",
    "sys.path.append(\"../\")\n",
    "import setigen as stg\n",
    "\n",
    "# # 200\n",
    "# i = 200\n",
    "# fn = '/datax/users/bryanb/data/split_files/4194304_%04d.fil' % i\n",
    "# fil = Waterfall(fn)\n",
    "\n",
    "tsamp = 18.253611008\n",
    "fch1 = 6095.214842353016\n",
    "df = -2.7939677238464355e-06\n",
    "\n",
    "fchans = 1024\n",
    "tchans = 16\n",
    "\n",
    "fs = np.arange(fch1, fch1 + fchans*df, df)\n",
    "ts = np.arange(0, tchans*tsamp, tsamp)"
   ]
  },
  {
   "cell_type": "code",
   "execution_count": 2,
   "metadata": {},
   "outputs": [],
   "source": [
    "signal = stg.generate(ts,\n",
    "                          fs,\n",
    "                          stg.constant_path(f_start = fs[200], drift_rate = -0.000002),\n",
    "                          stg.constant_t_profile(level = 1),\n",
    "                          stg.box_f_profile(width = 0.00001),\n",
    "                          stg.constant_bp_profile(level = 1))"
   ]
  },
  {
   "cell_type": "code",
   "execution_count": 3,
   "metadata": {},
   "outputs": [
    {
     "data": {
      "image/png": "[encoded data removed]",
      "text/plain": [
       "<Figure size 720x432 with 2 Axes>"
      ]
     },
     "metadata": {},
     "output_type": "display_data"
    }
   ],
   "source": [
    "import matplotlib.pyplot as plt\n",
    "fig = plt.figure(figsize=(10,6))\n",
    "plt.imshow(signal, aspect='auto')\n",
    "plt.colorbar()\n",
    "fig.savefig(\"../doc/source/cookbook/basic_signal.png\", bbox_inches='tight')"
   ]
  },
  {
   "cell_type": "code",
   "execution_count": null,
   "metadata": {},
   "outputs": [],
   "source": []
  }
 ],
 "metadata": {
  "kernelspec": {
   "display_name": "Python 2",
   "language": "python",
   "name": "python2"
  },
  "language_info": {
   "codemirror_mode": {
    "name": "ipython",
    "version": 3
   },
   "file_extension": ".py",
   "mimetype": "text/x-python",
   "name": "python",
   "nbconvert_exporter": "python",
   "pygments_lexer": "ipython3",
   "version": "3.6.5"
  }
 },
 "nbformat": 4,
 "nbformat_minor": 2
}
